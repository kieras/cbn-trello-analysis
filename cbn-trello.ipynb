{
 "cells": [
  {
   "cell_type": "code",
   "execution_count": null,
   "metadata": {},
   "outputs": [],
   "source": [
    "import calendar\n",
    "import datetime as dt\n",
    "import dateutil.parser as dp\n",
    "import gspread\n",
    "import json\n",
    "import matplotlib.pyplot as plt\n",
    "import numpy as np\n",
    "import pandas as pd\n",
    "import requests\n",
    "\n",
    "from IPython.display import display\n",
    "from functools import partial\n",
    "from oauth2client.service_account import ServiceAccountCredentials"
   ]
  },
  {
   "cell_type": "markdown",
   "metadata": {},
   "source": [
    "# Setting up key, token and Service Account"
   ]
  },
  {
   "cell_type": "code",
   "execution_count": null,
   "metadata": {
    "scrolled": true
   },
   "outputs": [],
   "source": [
    "with open('keys.json') as file:\n",
    "    keys = json.load(file)\n",
    "    api_key = keys['trello']['api_key']\n",
    "    token = keys['trello']['token']\n",
    "    spreadsheet_key = keys['sheet']['spreadsheet_key']\n",
    "    sa_file = keys['sheet']['sa_file']"
   ]
  },
  {
   "cell_type": "markdown",
   "metadata": {},
   "source": [
    "# Extracting Sheet Data"
   ]
  },
  {
   "cell_type": "code",
   "execution_count": null,
   "metadata": {},
   "outputs": [],
   "source": [
    "def convert_sheet_date(sheet_date):\n",
    "    conversion_table = {\n",
    "        'January': '01',\n",
    "        'February': '02',\n",
    "        'March': '03',\n",
    "        'April': '04',\n",
    "        'May': '05',\n",
    "        'June': '06',\n",
    "        'July': '07',\n",
    "        'August': '08',\n",
    "        'September': '09',\n",
    "        'October': '10',\n",
    "        'November': '11',\n",
    "        'December': '12'\n",
    "    }\n",
    "    \n",
    "    month = conversion_table[sheet_date.split('-')[0].strip()]\n",
    "    year = sheet_date.split('-')[1].strip()\n",
    "    \n",
    "    return year + '-' + month"
   ]
  },
  {
   "cell_type": "code",
   "execution_count": null,
   "metadata": {},
   "outputs": [],
   "source": [
    "def get_consolidated_sheet():\n",
    "    scope = ['https://spreadsheets.google.com/feeds']\n",
    "    credentials = ServiceAccountCredentials.from_json_keyfile_name(sa_file, scope) \n",
    "    gc = gspread.authorize(credentials)\n",
    "    \n",
    "    book = gc.open_by_key(spreadsheet_key)\n",
    "    worksheet = book.worksheet(\"Consolidated\")\n",
    "    table = worksheet.get_all_values()\n",
    "    \n",
    "    return table"
   ]
  },
  {
   "cell_type": "code",
   "execution_count": null,
   "metadata": {},
   "outputs": [],
   "source": [
    "def get_total_by_date():\n",
    "    table = get_consolidated_sheet()\n",
    "    \n",
    "    header_row = table[0]\n",
    "    columns = [value for index, value in enumerate(header_row) if value] \n",
    "    converted_columns = [ convert_sheet_date(x) for x in columns[1:]]\n",
    "    \n",
    "    total_row = table[14]\n",
    "    # getting only the executed column\n",
    "    total = [value for index, value in enumerate(total_row) if index % 3 == 0]\n",
    "    total.pop(0)\n",
    "    \n",
    "    total_by_date = [ [converted_columns[index], value] for index, value in enumerate(total)]\n",
    "    \n",
    "    return total_by_date"
   ]
  },
  {
   "cell_type": "code",
   "execution_count": null,
   "metadata": {},
   "outputs": [],
   "source": [
    "def create_ftes_dataframe():\n",
    "    # from deprecated sheet, it will never be changed\n",
    "    old_data = [\n",
    "        ['2020-03', 4.0],\n",
    "        ['2020-04', 6.15],\n",
    "        ['2020-05', 6.25],\n",
    "        ['2020-06', 6.0],\n",
    "        ['2020-07', 3.65],\n",
    "        ['2020-08', 4.57],\n",
    "        ['2020-09', 4.52],\n",
    "        ['2020-10', 4.9],\n",
    "        ['2020-11', 4.7]\n",
    "    ]\n",
    "    \n",
    "    new_data = get_total_by_date()\n",
    "    \n",
    "    full_data = old_data + new_data\n",
    "    \n",
    "    total_fte = pd.DataFrame(full_data, columns=['month_base', 'fte'])\n",
    "    \n",
    "    total_fte['month_base'] = pd.to_datetime(total_fte['month_base'])\n",
    "    total_fte['month'] = pd.PeriodIndex(total_fte['month_base'], freq='M')\n",
    "    total_fte['quarter'] = pd.PeriodIndex(total_fte['month_base'], freq='Q')\n",
    "    total_fte['fte'] = total_fte['fte'].astype(float)\n",
    "    \n",
    "    del total_fte['month_base']\n",
    "    \n",
    "    return total_fte"
   ]
  },
  {
   "cell_type": "code",
   "execution_count": null,
   "metadata": {},
   "outputs": [],
   "source": [
    "total_fte = create_ftes_dataframe()"
   ]
  },
  {
   "cell_type": "code",
   "execution_count": null,
   "metadata": {},
   "outputs": [],
   "source": [
    "total_fte"
   ]
  },
  {
   "cell_type": "markdown",
   "metadata": {},
   "source": [
    "# Extracting Trello Data"
   ]
  },
  {
   "cell_type": "code",
   "execution_count": null,
   "metadata": {},
   "outputs": [],
   "source": [
    "def get_data_from_trello_api(url):\n",
    "    headers = {\n",
    "       \"Accept\": \"application/json\"\n",
    "    }\n",
    "    \n",
    "    query = {\n",
    "       'key': api_key,\n",
    "       'token': token\n",
    "    }\n",
    "    \n",
    "    response = requests.request(\"GET\", url, headers=headers, params=query)\n",
    "    \n",
    "    if response.status_code > 299:\n",
    "        raise Exception('Something went wrong with the request {0} '\\\n",
    "                        'with status: {1}'.format(url, response.status_code))\n",
    "    \n",
    "    return json.loads(response.text)"
   ]
  },
  {
   "cell_type": "code",
   "execution_count": null,
   "metadata": {},
   "outputs": [],
   "source": [
    "def get_all_boards():\n",
    "    boards_url = \"https://api.trello.com/1/members/me/boards\"\n",
    "    \n",
    "    boards = get_data_from_trello_api(boards_url)\n",
    "    \n",
    "    \n",
    "    return boards"
   ]
  },
  {
   "cell_type": "code",
   "execution_count": null,
   "metadata": {},
   "outputs": [],
   "source": [
    "def get_board_by_name(board_name):\n",
    "    boards_url = \"https://api.trello.com/1/search?query=CBN\"\n",
    "    query = get_data_from_trello_api(boards_url)\n",
    "    cbn_board = query[\"boards\"][0]\n",
    "    \n",
    "    \n",
    "    return cbn_board"
   ]
  },
  {
   "cell_type": "code",
   "execution_count": null,
   "metadata": {},
   "outputs": [],
   "source": [
    "def get_lists_by_board(id_board):\n",
    "    lists_url = 'https://api.trello.com/1/boards/{0}/lists'\n",
    "    \n",
    "    lists = get_data_from_trello_api(lists_url.format(id_board))\n",
    "    \n",
    "    \n",
    "    list_map = {}\n",
    "    for list in lists:\n",
    "        list_map[list['id']] = list['name']\n",
    "    \n",
    "    return lists"
   ]
  },
  {
   "cell_type": "code",
   "execution_count": null,
   "metadata": {},
   "outputs": [],
   "source": [
    "def get_lists_by_board(id_board):\n",
    "    lists_url = 'https://api.trello.com/1/boards/{0}/lists'\n",
    "    \n",
    "    lists = get_data_from_trello_api(lists_url.format(id_board))\n",
    "    \n",
    "    \n",
    "    list_map = {}\n",
    "    for list in lists:\n",
    "        list_map[list['id']] = list['name']\n",
    "    \n",
    "    return list_map"
   ]
  },
  {
   "cell_type": "code",
   "execution_count": null,
   "metadata": {},
   "outputs": [],
   "source": [
    "def get_custom_fields_by_board(id_board):\n",
    "    custom_fields = 'https://api.trello.com/1/boards/{0}/customFields'\n",
    "    \n",
    "    custom_fields = get_data_from_trello_api(custom_fields.format(id_board))\n",
    "    \n",
    "    custom_field_map = {}\n",
    "    for custom_field in custom_fields:\n",
    "        custom_field_map[custom_field['id']] = custom_field['name']\n",
    "    \n",
    "    return custom_fields"
   ]
  },
  {
   "cell_type": "code",
   "execution_count": null,
   "metadata": {},
   "outputs": [],
   "source": [
    "def get_custom_fields_map_by_board(id_board):\n",
    "    custom_fields = 'https://api.trello.com/1/boards/{0}/customFields'\n",
    "    \n",
    "    custom_fields = get_data_from_trello_api(custom_fields.format(id_board))\n",
    "    \n",
    "    custom_field_map = {}\n",
    "    for custom_field in custom_fields:\n",
    "        custom_field_map[custom_field['id']] = custom_field['name']\n",
    "    \n",
    "    return custom_field_map"
   ]
  },
  {
   "cell_type": "code",
   "execution_count": null,
   "metadata": {},
   "outputs": [],
   "source": [
    "def create_boards_dump():\n",
    "    boards =  get_all_boards()\n",
    "\n",
    "    time_now = dt.datetime.now().strftime('%d-%m-%Y')\n",
    "    \n",
    "    for board in boards:\n",
    "        name_of_dump = f\"dumps/boards/raw_{board['name']}_{time_now}.json\"\n",
    "        with open(name_of_dump, 'w') as json_file:\n",
    "            json.dump(board, json_file)\n",
    "        \n",
    "    return name_of_dump\n",
    "\n"
   ]
  },
  {
   "cell_type": "code",
   "execution_count": null,
   "metadata": {},
   "outputs": [],
   "source": [
    "def create_cards_dump(name_board):\n",
    "    board = get_board_by_name(name_board)\n",
    "    board_id = board[\"id\"]\n",
    "    \n",
    "    cards_on_board_url = f'https://api.trello.com/1/boards/{board_id}/cards/?customFieldItems=true'\n",
    "    board_cards = get_data_from_trello_api(cards_on_board_url)\n",
    "    \n",
    "    time_now = dt.datetime.now().strftime(\"%d-%m-%Y\")\n",
    "    \n",
    "    name_of_dump = f'dumps/cards/raw_{board[\"name\"]}_cards_{time_now}.json'\n",
    "    \n",
    "    with open(name_of_dump, \"w\") as json_file:\n",
    "        json.dump(board_cards, json_file)\n",
    "        \n",
    "    return name_of_dump"
   ]
  },
  {
   "cell_type": "code",
   "execution_count": null,
   "metadata": {},
   "outputs": [],
   "source": [
    "def create_lists_dump():\n",
    "    boards = get_all_boards()\n",
    "    time_now = dt.datetime.now().strftime('%d-%m-%Y')\n",
    "    lists = []\n",
    "    count = 0\n",
    "\n",
    "    for board in boards:\n",
    "        lists.append(get_lists_by_board(board['id']))\n",
    "\n",
    "    for raw_list in lists:\n",
    "        name_of_dump = f'dumps/lists/raw_list_{time_now}_({count}).json'\n",
    "        count += 1\n",
    "        with open(name_of_dump, 'a') as json_file:\n",
    "                json.dump(raw_list, json_file)\n",
    "            \n",
    "    return name_of_dump"
   ]
  },
  {
   "cell_type": "code",
   "execution_count": null,
   "metadata": {},
   "outputs": [],
   "source": [
    "def create_custom_fields_dump():\n",
    "    boards = get_all_boards()\n",
    "    time_now = dt.datetime.now().strftime('%d-%m-%Y')\n",
    "    custom_fields = []\n",
    "    count = 0\n",
    "\n",
    "    for board in boards:\n",
    "        custom_fields.append(get_lists_by_board(board['id']))\n",
    "        \n",
    "    for custom_field in custom_fields:\n",
    "        name_of_dump = f'dumps/custom fields/raw_custom_field_{time_now}_({count}).json'\n",
    "        count += 1\n",
    "        \n",
    "        with open(name_of_dump, 'a') as json_file:\n",
    "            json.dump(custom_field, json_file)\n",
    "        \n",
    "    return name_of_dump"
   ]
  },
  {
   "cell_type": "code",
   "execution_count": null,
   "metadata": {},
   "outputs": [],
   "source": [
    "def get_cards_by_board(id_board, name_board):\n",
    "    \n",
    "    name_of_dump = create_cards_dump(name_board)\n",
    "    name_of_dump_boards = create_boards_dump()\n",
    "    name_of_dump_lists = create_lists_dump()\n",
    "    name_of_dump_custom_fields = create_custom_fields_dump()\n",
    "    \n",
    "    with open(name_of_dump) as file:\n",
    "        \n",
    "        cards_raw = json.load(file)\n",
    "        \n",
    "        fields = (\"id\", \"name\", \"idList\", \"shortUrl\", \"customFieldItems\")\n",
    "\n",
    "        cards = [{key : value for key, value in card.items() if key in fields} for card in cards_raw ]\n",
    "\n",
    "        custom_fields_map = get_custom_fields_map_by_board(id_board)\n",
    "\n",
    "        lists_map = get_lists_map_by_board(id_board)\n",
    "        #cards = get_data_from_trello_api(cards_on_board_url.format(id_board))\n",
    "\n",
    "\n",
    "        useful_cards = []\n",
    "        for card in cards:\n",
    "            idListName = lists_map[card['idList']]\n",
    "            if idListName in ['Done']:\n",
    "                normalized_card = {}\n",
    "\n",
    "                for custom_field in card['customFieldItems']:\n",
    "                    name = custom_fields_map[custom_field['idCustomField']]\n",
    "                    if name in ['Start', 'End', 'EndDev']:\n",
    "                        value = custom_field['value']['date']\n",
    "                        normalized_card[name] = value\n",
    "\n",
    "                if len(normalized_card) < 3:\n",
    "                    raise Exception(\n",
    "                        'Make sure all dates are filled in the card: Start, EndDev and End for {0}'.format(card['name']))\n",
    "\n",
    "                normalized_card['name'] = card['name']\n",
    "                normalized_card['shortUrl'] = card['shortUrl']\n",
    "                normalized_card['idList'] = lists_map[card['idList']]\n",
    "                useful_cards.append(normalized_card)\n",
    "    \n",
    "    \n",
    "    \n",
    "    return useful_cards"
   ]
  },
  {
   "cell_type": "code",
   "execution_count": null,
   "metadata": {},
   "outputs": [],
   "source": [
    "def create_dataframe_from_trello_api():\n",
    "    cbn_board = get_board_by_name('CBN')\n",
    "    cards = get_cards_by_board(cbn_board['id'], cbn_board['name'])\n",
    "    df = pd.DataFrame.from_dict(cards)\n",
    "\n",
    "    df['dev_duration'] = (pd.to_datetime(df['EndDev']).dt.date - pd.to_datetime(df['Start']).dt.date).dt.days\n",
    "    df['duration'] = (pd.to_datetime(df['End']).dt.date - pd.to_datetime(df['Start']).dt.date).dt.days\n",
    "    \n",
    "    df['busday_dev_duration'] = np.busday_count(\n",
    "        pd.to_datetime(df['Start']).dt.date,\n",
    "        pd.to_datetime(df['EndDev']).dt.date)\n",
    "    \n",
    "    df['busday_duration'] = np.busday_count(\n",
    "        pd.to_datetime(df['Start']).dt.date,\n",
    "        pd.to_datetime(df['End']).dt.date)\n",
    "    \n",
    "    df['quarter'] = pd.PeriodIndex(df['End'], freq='Q')\n",
    "    \n",
    "    df['month'] = pd.PeriodIndex(df['End'], freq='M')\n",
    "\n",
    "    df[\"count\"] = 1\n",
    "    \n",
    "    return df"
   ]
  },
  {
   "cell_type": "code",
   "execution_count": null,
   "metadata": {},
   "outputs": [],
   "source": [
    "def create_filtered_dump():\n",
    "    cbn_board = get_board_by_name('CBN')\n",
    "    cbn_board_id = cbn_board['id']\n",
    "    \n",
    "    cards_on_board_url = f'https://api.trello.com/1/boards/{cbn_board_id}/cards/?fields=id,name,idList,shortUrl&customFieldItems=true'\n",
    "    board_cards = get_data_from_trello_api(cards_on_board_url)\n",
    "    \n",
    "    time_now = dt.datetime.now().strftime(\"%d-%m-%Y\")\n",
    "    \n",
    "    name_of_dump = f'dumps/filtered_dumps/filtered_cards_CBN_{time_now}.json'\n",
    "    \n",
    "    with open(name_of_dump, 'w') as json_file:\n",
    "        json.dump(board_cards, json_file)\n",
    "        \n",
    "    return name_of_dump"
   ]
  },
  {
   "cell_type": "code",
   "execution_count": null,
   "metadata": {
    "scrolled": true
   },
   "outputs": [],
   "source": [
    "pd.set_option('display.max_rows', None)\n",
    "df = create_dataframe_from_trello_api()"
   ]
  },
  {
   "cell_type": "code",
   "execution_count": null,
   "metadata": {},
   "outputs": [],
   "source": [
    "df"
   ]
  },
  {
   "cell_type": "code",
   "execution_count": null,
   "metadata": {},
   "outputs": [],
   "source": [
    "cancelled = df[(df[\"idList\"] == \"Cancelled\")]\n",
    "done = df[(df[\"idList\"] == \"Done\")]"
   ]
  },
  {
   "cell_type": "markdown",
   "metadata": {},
   "source": [
    "# Joining both fte and parsers tables"
   ]
  },
  {
   "cell_type": "markdown",
   "metadata": {},
   "source": [
    "# Calculating General Estimatives"
   ]
  },
  {
   "cell_type": "markdown",
   "metadata": {},
   "source": [
    "# Functions"
   ]
  },
  {
   "cell_type": "code",
   "execution_count": null,
   "metadata": {},
   "outputs": [],
   "source": [
    "def get_extremes(data_frame, duration_column):\n",
    "    upper_q = partial(pd.Series.quantile, q=0.95)\n",
    "    lower_q = partial(pd.Series.quantile, q=0.05)\n",
    "\n",
    "    upper_extremes = data_frame[duration_column].agg([upper_q])[\"quantile\"]\n",
    "    lower_extremes = data_frame[duration_column].agg([lower_q])[\"quantile\"]\n",
    "    \n",
    "    return lower_extremes, upper_extremes"
   ]
  },
  {
   "cell_type": "code",
   "execution_count": null,
   "metadata": {},
   "outputs": [],
   "source": [
    "def calculate_estimatives_by_duration_column(data_frame, duration_column, print_results=True):\n",
    "    lower_extremes, upper_extremes = get_extremes(data_frame, duration_column)\n",
    "    \n",
    "    done_extremes_removed = data_frame[(data_frame[duration_column] > lower_extremes) & (data_frame[duration_column] < upper_extremes)]\n",
    "    mean_removed_extremes = done_extremes_removed[duration_column].mean()\n",
    "    \n",
    "    small_q = partial(pd.Series.quantile, q=0.25)\n",
    "    small_limit = done_extremes_removed[duration_column].agg([small_q])[\"quantile\"]\n",
    "    \n",
    "    small_extremes_removed = done_extremes_removed[(done_extremes_removed[duration_column] <= small_limit)]\n",
    "    not_small_extremes_removed = done_extremes_removed[(done_extremes_removed[duration_column] > small_limit)]\n",
    "    \n",
    "    mean_small_extremes_removed = small_extremes_removed[duration_column].mean()\n",
    "    mean_not_small_extremes_removed = not_small_extremes_removed[duration_column].mean()\n",
    "    \n",
    "    total_developed = len(data_frame)\n",
    "    \n",
    "    if print_results:\n",
    "        print('lower_extremes ->', lower_extremes)\n",
    "        print('upper_extremes ->', upper_extremes)\n",
    "        print('small limit ->', small_limit)\n",
    "        print('Done estimate (with \"extremes\" removed) ->', mean_removed_extremes)\n",
    "        print('Done estimate for \"Small\" ones ->', mean_small_extremes_removed)\n",
    "        print('Done estimate for \"Big\" ones ->', mean_not_small_extremes_removed)\n",
    "        print('Total_developed ->', total_developed)\n",
    "\n",
    "    return done_extremes_removed\n",
    "    \n",
    "    "
   ]
  },
  {
   "cell_type": "code",
   "execution_count": null,
   "metadata": {},
   "outputs": [],
   "source": [
    "def calculate_estimatives(data_frame):\n",
    "    print('Total Duration:')\n",
    "    print('\\n')\n",
    "    calculate_estimatives_by_duration_column(data_frame, 'duration')\n",
    "    print('\\n')\n",
    "    print('Total Dev Duration:')\n",
    "    print('\\n')\n",
    "    calculate_estimatives_by_duration_column(data_frame, 'dev_duration')\n",
    "    print('\\n')\n",
    "    print('##############')\n",
    "    print('#BUSINESS DAY#')\n",
    "    print('##############')\n",
    "    print('\\n')\n",
    "    print('Business Day Duration:')\n",
    "    print('\\n')\n",
    "    calculate_estimatives_by_duration_column(data_frame, 'busday_duration')\n",
    "    print('\\n')\n",
    "    print('Business Day Dev Duration:')\n",
    "    print('\\n')\n",
    "    calculate_estimatives_by_duration_column(data_frame, 'busday_dev_duration')\n",
    "    "
   ]
  },
  {
   "cell_type": "code",
   "execution_count": null,
   "metadata": {},
   "outputs": [],
   "source": [
    "def generate_tables_and_charts(data_frame, duration_column, print_tables, plot_charts):\n",
    "    df1 = data_frame[[duration_column, 'quarter']].groupby('quarter').mean()\n",
    "    df2 = data_frame[['quarter', 'count']].groupby('quarter').sum('count')\n",
    "    df3 = data_frame[['month', 'count']].groupby('month').sum('count')\n",
    "    \n",
    "    if print_tables:\n",
    "        display(df1)\n",
    "        display(df2)\n",
    "        display(df3)\n",
    "    \n",
    "    if plot_charts:\n",
    "        df1.plot()\n",
    "        df2.plot()\n",
    "        df3.plot()\n"
   ]
  },
  {
   "cell_type": "code",
   "execution_count": null,
   "metadata": {},
   "outputs": [],
   "source": [
    "def generate_tables_and_charts_by_duration_colum(data_frame, duration_column, remove_extremes):\n",
    "    if remove_extremes:\n",
    "        df_with_no_extremes = calculate_estimatives_by_duration_column(data_frame, duration_column, False)\n",
    "        generate_tables_and_charts(df_with_no_extremes, duration_column, True, True)\n",
    "    else:\n",
    "        generate_tables_and_charts(data_frame, duration_column, True, True)\n",
    "    "
   ]
  },
  {
   "cell_type": "code",
   "execution_count": null,
   "metadata": {},
   "outputs": [],
   "source": [
    "def generate_full_duration_table_and_chart(data_frame, period): # quarter or month\n",
    "    new_df = data_frame[['dev_duration', 'duration', 'busday_dev_duration', 'busday_duration', period]]\n",
    "    new_df = new_df.groupby(period).mean()\n",
    "    display(new_df)\n",
    "    new_df.plot()"
   ]
  },
  {
   "cell_type": "markdown",
   "metadata": {},
   "source": [
    "# General Estimatives"
   ]
  },
  {
   "cell_type": "code",
   "execution_count": null,
   "metadata": {
    "scrolled": false
   },
   "outputs": [],
   "source": [
    "calculate_estimatives(done)"
   ]
  },
  {
   "cell_type": "markdown",
   "metadata": {},
   "source": [
    "# Duration time"
   ]
  },
  {
   "cell_type": "code",
   "execution_count": null,
   "metadata": {},
   "outputs": [],
   "source": [
    "df1 = df.copy()"
   ]
  },
  {
   "cell_type": "code",
   "execution_count": null,
   "metadata": {
    "scrolled": true
   },
   "outputs": [],
   "source": [
    "generate_full_duration_table_and_chart(df1, 'quarter')"
   ]
  },
  {
   "cell_type": "code",
   "execution_count": null,
   "metadata": {
    "scrolled": true
   },
   "outputs": [],
   "source": [
    "generate_full_duration_table_and_chart(df1, 'month')"
   ]
  },
  {
   "cell_type": "markdown",
   "metadata": {},
   "source": [
    "# Duration Time without extremes"
   ]
  },
  {
   "cell_type": "code",
   "execution_count": null,
   "metadata": {},
   "outputs": [],
   "source": [
    "df2 = df.copy()\n",
    "df2 = calculate_estimatives_by_duration_column(df2, 'duration', False)"
   ]
  },
  {
   "cell_type": "code",
   "execution_count": null,
   "metadata": {
    "scrolled": true
   },
   "outputs": [],
   "source": [
    "generate_full_duration_table_and_chart(df2, 'quarter')"
   ]
  },
  {
   "cell_type": "code",
   "execution_count": null,
   "metadata": {},
   "outputs": [],
   "source": [
    "generate_full_duration_table_and_chart(df2, 'month')"
   ]
  },
  {
   "cell_type": "markdown",
   "metadata": {},
   "source": [
    "# Amount delivered by month"
   ]
  },
  {
   "cell_type": "code",
   "execution_count": null,
   "metadata": {
    "scrolled": false
   },
   "outputs": [],
   "source": [
    "df[['month', 'count']].groupby('month').sum('count').plot(kind='bar')"
   ]
  },
  {
   "cell_type": "code",
   "execution_count": null,
   "metadata": {
    "scrolled": true
   },
   "outputs": [],
   "source": [
    "by_month = df[['month', 'count']].groupby('month').sum('count')\n",
    "\n",
    "monthly_result = pd.merge(by_month, total_fte, on='month', how='left')\n",
    "\n",
    "monthly_result['month'] = monthly_result['month'].astype(str)\n",
    "\n",
    "ax = monthly_result[['month','fte']].plot(x='month', linestyle='-', marker='o', color='orange')\n",
    "monthly_result[['month','count']].plot(x='month', kind='bar', ax=ax)"
   ]
  },
  {
   "cell_type": "code",
   "execution_count": null,
   "metadata": {},
   "outputs": [],
   "source": [
    "monthly_result"
   ]
  },
  {
   "cell_type": "markdown",
   "metadata": {},
   "source": [
    "# Amount delivered by quarter"
   ]
  },
  {
   "cell_type": "code",
   "execution_count": null,
   "metadata": {
    "scrolled": true
   },
   "outputs": [],
   "source": [
    "df[['quarter', 'count']].groupby('quarter').sum('count').plot(kind='bar')"
   ]
  },
  {
   "cell_type": "code",
   "execution_count": null,
   "metadata": {},
   "outputs": [],
   "source": [
    "by_quarter = df[['quarter', 'count']].groupby('quarter').sum('count')\n",
    "\n",
    "by_quarter_fte = pd.merge(by_quarter, total_fte, on='quarter', how='left')\n",
    "\n",
    "quartly_result = by_quarter_fte[['quarter', 'count', 'fte']].groupby(['quarter','count']).sum('fte')\n",
    "quartly_result.reset_index(drop=False, inplace=True)\n",
    "\n",
    "quartly_result['quarter'] = quartly_result['quarter'].astype(str)\n",
    "\n",
    "ax = quartly_result[['quarter','fte']].plot(x='quarter', linestyle='-', marker='o', color='orange')\n",
    "quartly_result[['quarter','count']].plot(x='quarter', kind='bar', ax=ax)"
   ]
  },
  {
   "cell_type": "code",
   "execution_count": null,
   "metadata": {},
   "outputs": [],
   "source": [
    "quartly_result"
   ]
  },
  {
   "cell_type": "markdown",
   "metadata": {},
   "source": [
    "# Data for business days"
   ]
  },
  {
   "cell_type": "code",
   "execution_count": null,
   "metadata": {
    "scrolled": true
   },
   "outputs": [],
   "source": [
    "generate_tables_and_charts_by_duration_colum(df, 'busday_duration', True)"
   ]
  },
  {
   "cell_type": "code",
   "execution_count": null,
   "metadata": {},
   "outputs": [],
   "source": [
    "generate_tables_and_charts_by_duration_colum(df, 'busday_duration', False)"
   ]
  },
  {
   "cell_type": "markdown",
   "metadata": {},
   "source": [
    "# Data for duration days"
   ]
  },
  {
   "cell_type": "code",
   "execution_count": null,
   "metadata": {
    "scrolled": true
   },
   "outputs": [],
   "source": [
    "generate_tables_and_charts_by_duration_colum(df, 'duration', True)"
   ]
  },
  {
   "cell_type": "code",
   "execution_count": null,
   "metadata": {},
   "outputs": [],
   "source": [
    "generate_tables_and_charts_by_duration_colum(df, 'duration', True)"
   ]
  }
 ],
 "metadata": {
  "kernelspec": {
   "display_name": "Python 3",
   "language": "python",
   "name": "python3"
  },
  "language_info": {
   "codemirror_mode": {
    "name": "ipython",
    "version": 3
   },
   "file_extension": ".py",
   "mimetype": "text/x-python",
   "name": "python",
   "nbconvert_exporter": "python",
   "pygments_lexer": "ipython3",
   "version": "3.8.5"
  }
 },
 "nbformat": 4,
 "nbformat_minor": 4
}