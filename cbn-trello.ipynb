{
 "cells": [
  {
   "cell_type": "code",
   "execution_count": null,
   "metadata": {
    "scrolled": true
   },
   "outputs": [],
   "source": [
    "import calendar\n",
    "import datetime as dt\n",
    "import dateutil.parser as dp\n",
    "import json\n",
    "import matplotlib.pyplot as plt\n",
    "import numpy as np\n",
    "import pandas as pd\n",
    "import requests\n",
    "import os\n",
    "\n",
    "from IPython.display import display, Markdown\n",
    "from functools import partial\n",
    "from oauth2client.service_account import ServiceAccountCredentials\n",
    "from googleapiclient.discovery import build"
   ]
  },
  {
   "cell_type": "markdown",
   "metadata": {},
   "source": [
    "# Parameters"
   ]
  },
  {
   "cell_type": "code",
   "execution_count": null,
   "metadata": {
    "scrolled": true
   },
   "outputs": [],
   "source": [
    "YEAR_FILTER = '2021'\n",
    "EXPECTED_PARSERS_PER_FTE = 2.5\n",
    "INTERACTIVE_CHARTS = True"
   ]
  },
  {
   "cell_type": "markdown",
   "metadata": {},
   "source": [
    "# Notebook Options"
   ]
  },
  {
   "cell_type": "code",
   "execution_count": null,
   "metadata": {},
   "outputs": [],
   "source": [
    "if INTERACTIVE_CHARTS:\n",
    "    %matplotlib widget\n",
    "else:\n",
    "    %matplotlib inline\n",
    "\n",
    "pd.set_option('display.max_rows', None)"
   ]
  },
  {
   "cell_type": "markdown",
   "metadata": {},
   "source": [
    "# Setting up key, token and Service Account"
   ]
  },
  {
   "cell_type": "code",
   "execution_count": null,
   "metadata": {
    "scrolled": true
   },
   "outputs": [],
   "source": [
    "with open('keys.json') as file:\n",
    "    keys = json.load(file)\n",
    "    api_key = keys['trello']['api_key']\n",
    "    token = keys['trello']['token']\n",
    "    spreadsheet_key = keys['sheet']['spreadsheet_key']\n",
    "    sa_file = keys['sheet']['sa_file']"
   ]
  },
  {
   "cell_type": "markdown",
   "metadata": {},
   "source": [
    "# Extracting Sheet Data"
   ]
  },
  {
   "cell_type": "code",
   "execution_count": null,
   "metadata": {
    "scrolled": true
   },
   "outputs": [],
   "source": [
    "def convert_sheet_date(sheet_date):\n",
    "    conversion_table = {\n",
    "        'January': '01',\n",
    "        'February': '02',\n",
    "        'March': '03',\n",
    "        'April': '04',\n",
    "        'May': '05',\n",
    "        'June': '06',\n",
    "        'July': '07',\n",
    "        'August': '08',\n",
    "        'September': '09',\n",
    "        'October': '10',\n",
    "        'November': '11',\n",
    "        'December': '12'\n",
    "    }\n",
    "    \n",
    "    month = conversion_table[sheet_date.split('-')[0].strip()]\n",
    "    year = sheet_date.split('-')[1].strip()\n",
    "    \n",
    "    return year + '-' + month"
   ]
  },
  {
   "cell_type": "code",
   "execution_count": null,
   "metadata": {
    "scrolled": true
   },
   "outputs": [],
   "source": [
    "def get_consolidated_sheet():\n",
    "    scope = ['https://spreadsheets.google.com/feeds']\n",
    "    credentials = ServiceAccountCredentials.from_json_keyfile_name(sa_file, scope)\n",
    "    service = build('sheets', 'v4', credentials=credentials)\n",
    "\n",
    "    SAMPLE_RANGE_NAME = 'Consolidated'\n",
    "    sheet = service.spreadsheets()\n",
    "    result = sheet.values().get(spreadsheetId=spreadsheet_key,\n",
    "                                range=SAMPLE_RANGE_NAME).execute()\n",
    "    values = result.get('values', [])\n",
    "    \n",
    "    return values"
   ]
  },
  {
   "cell_type": "code",
   "execution_count": null,
   "metadata": {
    "scrolled": true
   },
   "outputs": [],
   "source": [
    "def get_total_by_date():\n",
    "    table = get_consolidated_sheet()\n",
    "    \n",
    "    header_row = table[0]\n",
    "    columns = [value for index, value in enumerate(header_row) if value] \n",
    "    converted_columns = [ convert_sheet_date(x) for x in columns[1:]]\n",
    "    \n",
    "    total_row = [value for value in table if value and value[0] == 'Total'][0]\n",
    "    # getting only the executed column\n",
    "    total = [value for index, value in enumerate(total_row) if index % 3 == 0]\n",
    "    \n",
    "    # getting only the planned column\n",
    "    planned = [total_row[i] for i in range(2, len(total_row), 3)]\n",
    "\n",
    "    total.pop(0)\n",
    "    \n",
    "    total_by_date = [ [converted_columns[index], value] for index, value in enumerate(total)]\n",
    "    \n",
    "    return total_by_date"
   ]
  },
  {
   "cell_type": "code",
   "execution_count": null,
   "metadata": {},
   "outputs": [],
   "source": [
    "def get_planned_by_date():\n",
    "    table = get_consolidated_sheet()\n",
    "    \n",
    "    header_row = table[0]\n",
    "    columns = [value for index, value in enumerate(header_row) if value] \n",
    "    converted_columns = [ convert_sheet_date(x) for x in columns[1:]]\n",
    "    \n",
    "    total_row = [value for value in table if value and value[0] == 'Total'][0]\n",
    "    \n",
    "    # getting only the planned column\n",
    "    planned = [total_row[i] for i in range(2, len(total_row), 3)]\n",
    "\n",
    "    planned.pop(0)\n",
    "    \n",
    "    planned_by_date = [ [converted_columns[index], value] for index, value in enumerate(planned)]\n",
    "    \n",
    "    return planned_by_date"
   ]
  },
  {
   "cell_type": "code",
   "execution_count": null,
   "metadata": {
    "scrolled": true
   },
   "outputs": [],
   "source": [
    "def create_ftes_dataframe():\n",
    "    # from deprecated sheet, it will never be changed\n",
    "    old_data = [\n",
    "        ['2020-03', 4.0],\n",
    "        ['2020-04', 6.15],\n",
    "        ['2020-05', 6.25],\n",
    "        ['2020-06', 6.0],\n",
    "        ['2020-07', 3.65],\n",
    "        ['2020-08', 4.57],\n",
    "        ['2020-09', 4.52],\n",
    "        ['2020-10', 4.9],\n",
    "        ['2020-11', 4.7]\n",
    "    ]\n",
    "    \n",
    "    new_data = get_total_by_date()\n",
    "    \n",
    "    full_data = old_data + new_data\n",
    "    \n",
    "    total_fte = pd.DataFrame(full_data, columns=['month_base', 'fte'])\n",
    "    \n",
    "    total_fte['month_base'] = pd.to_datetime(total_fte['month_base'])\n",
    "    total_fte['month'] = pd.PeriodIndex(total_fte['month_base'], freq='M')\n",
    "    total_fte['quarter'] = pd.PeriodIndex(total_fte['month_base'], freq='Q')\n",
    "    total_fte['fte'] = total_fte['fte'].astype(float)\n",
    "    \n",
    "    del total_fte['month_base']\n",
    "    \n",
    "    return total_fte"
   ]
  },
  {
   "cell_type": "code",
   "execution_count": null,
   "metadata": {},
   "outputs": [],
   "source": [
    "def create_planned_ftes_dataframe():\n",
    "    data = get_planned_by_date()\n",
    "\n",
    "    planned_fte = pd.DataFrame(data, columns=['month_base', 'planned_fte'])\n",
    "    \n",
    "    planned_fte['month_base'] = pd.to_datetime(planned_fte['month_base'])\n",
    "    planned_fte['month'] = pd.PeriodIndex(planned_fte['month_base'], freq='M')\n",
    "    planned_fte['quarter'] = pd.PeriodIndex(planned_fte['month_base'], freq='Q')\n",
    "    planned_fte['planned_fte'] = planned_fte['planned_fte'].astype(float)\n",
    "    \n",
    "    del planned_fte['month_base']\n",
    "    \n",
    "    return planned_fte"
   ]
  },
  {
   "cell_type": "code",
   "execution_count": null,
   "metadata": {
    "scrolled": true
   },
   "outputs": [],
   "source": [
    "total_fte = create_ftes_dataframe()"
   ]
  },
  {
   "cell_type": "code",
   "execution_count": null,
   "metadata": {
    "scrolled": false
   },
   "outputs": [],
   "source": [
    "total_fte"
   ]
  },
  {
   "cell_type": "code",
   "execution_count": null,
   "metadata": {},
   "outputs": [],
   "source": [
    "planned_ftes = create_planned_ftes_dataframe()\n",
    "planned_ftes"
   ]
  },
  {
   "cell_type": "markdown",
   "metadata": {},
   "source": [
    "# Extracting Trello Data"
   ]
  },
  {
   "cell_type": "code",
   "execution_count": null,
   "metadata": {
    "scrolled": true
   },
   "outputs": [],
   "source": [
    "def get_data_from_trello_api(url):\n",
    "    headers = {\n",
    "       \"Accept\": \"application/json\"\n",
    "    }\n",
    "    \n",
    "    query = {\n",
    "       'key': api_key,\n",
    "       'token': token\n",
    "    }\n",
    "    \n",
    "    response = requests.request(\"GET\", url, headers=headers, params=query)\n",
    "    \n",
    "    if response.status_code > 299:\n",
    "        raise Exception('Something went wrong with the request {0} '\\\n",
    "                        'with status: {1}'.format(url, response.status_code))\n",
    "    \n",
    "    return json.loads(response.text)"
   ]
  },
  {
   "cell_type": "code",
   "execution_count": null,
   "metadata": {
    "scrolled": true
   },
   "outputs": [],
   "source": [
    "def read_json(json_name):\n",
    "    with open(json_name) as file:\n",
    "        json_opened = json.load(file)\n",
    "           \n",
    "    return json_opened "
   ]
  },
  {
   "cell_type": "code",
   "execution_count": null,
   "metadata": {
    "scrolled": true
   },
   "outputs": [],
   "source": [
    "def write_json(json_name, content_to_write):\n",
    "    with open(json_name, 'w') as json_file:\n",
    "        json.dump(content_to_write, json_file, indent=4, sort_keys=True)"
   ]
  },
  {
   "cell_type": "code",
   "execution_count": null,
   "metadata": {
    "scrolled": true
   },
   "outputs": [],
   "source": [
    "def generate_timestamp():\n",
    "    current_timestamp = dt.datetime.now().strftime('%d-%m-%Y')\n",
    "    \n",
    "    return current_timestamp"
   ]
  },
  {
   "cell_type": "code",
   "execution_count": null,
   "metadata": {
    "scrolled": true
   },
   "outputs": [],
   "source": [
    "def create_folder_for_dumping(name, current_timestamp):\n",
    "    if not os.path.exists('dumps'):\n",
    "        os.mkdir('dumps')\n",
    "    \n",
    "    if not os.path.exists('dumps/' + name):\n",
    "        os.mkdir('dumps/' + name)\n",
    "    \n",
    "    if not os.path.exists('dumps/' + name + '/' + current_timestamp):\n",
    "        os.mkdir('dumps/' + name + '/' + current_timestamp)"
   ]
  },
  {
   "cell_type": "code",
   "execution_count": null,
   "metadata": {
    "scrolled": true
   },
   "outputs": [],
   "source": [
    "def get_data_from_dump(board_name, dump_name, timestamp):\n",
    "    path = 'dumps/' + board_name + '/' + timestamp + '/dump_' + dump_name + '.json'\n",
    "    \n",
    "    file_opened = read_json(path)\n",
    "    \n",
    "    return file_opened"
   ]
  },
  {
   "cell_type": "markdown",
   "metadata": {},
   "source": [
    "# Acessing API"
   ]
  },
  {
   "cell_type": "code",
   "execution_count": null,
   "metadata": {
    "scrolled": true
   },
   "outputs": [],
   "source": [
    "def get_board_by_name(board_name):\n",
    "    boards_url = f'https://api.trello.com/1/search?query={board_name}'\n",
    "    board = get_data_from_trello_api(boards_url)\n",
    "    \n",
    "    return board"
   ]
  },
  {
   "cell_type": "code",
   "execution_count": null,
   "metadata": {
    "scrolled": true
   },
   "outputs": [],
   "source": [
    "def get_lists_by_board(board_name, board_id, current_timestamp):\n",
    "    lists_url = 'https://api.trello.com/1/boards/{0}/lists'\n",
    "    lists = get_data_from_trello_api(lists_url.format(board_id))\n",
    "          \n",
    "    return lists"
   ]
  },
  {
   "cell_type": "code",
   "execution_count": null,
   "metadata": {
    "scrolled": true
   },
   "outputs": [],
   "source": [
    "def get_custom_fields_by_board(board_name, board_id, current_timestamp):\n",
    "    custom_fields_url = 'https://api.trello.com/1/boards/{0}/customFields'\n",
    "    \n",
    "    custom_fields = get_data_from_trello_api(custom_fields_url.format(board_id))\n",
    "    \n",
    "    return custom_fields"
   ]
  },
  {
   "cell_type": "code",
   "execution_count": null,
   "metadata": {
    "scrolled": true
   },
   "outputs": [],
   "source": [
    "def get_cards_by_board(board_name, board_id, current_timestamp):\n",
    "    cards_on_board_url = 'https://api.trello.com/1/boards/{0}/cards/?customFieldItems=true'\n",
    "    board_cards = get_data_from_trello_api(cards_on_board_url.format(board_id))\n",
    "    \n",
    "    return board_cards"
   ]
  },
  {
   "cell_type": "code",
   "execution_count": null,
   "metadata": {
    "scrolled": true
   },
   "outputs": [],
   "source": [
    "def get_members_by_board(board_name, board_id, current_timestamp):\n",
    "    members_on_board_url = 'https://api.trello.com/1/boards/{0}/members'\n",
    "    board_members = get_data_from_trello_api(members_on_board_url.format(board_id))\n",
    "    \n",
    "    return board_members"
   ]
  },
  {
   "cell_type": "markdown",
   "metadata": {},
   "source": [
    "# Creating dumps"
   ]
  },
  {
   "cell_type": "code",
   "execution_count": null,
   "metadata": {
    "scrolled": true
   },
   "outputs": [],
   "source": [
    "def create_boards_dump(board_name, current_timestamp):\n",
    "    boards = get_board_by_name(board_name)\n",
    "\n",
    "    name_of_dump = f'dumps/{board_name}/{current_timestamp}/dump_board.json'\n",
    "        \n",
    "    write_json(name_of_dump, boards)\n",
    "    \n",
    "    return name_of_dump"
   ]
  },
  {
   "cell_type": "code",
   "execution_count": null,
   "metadata": {
    "scrolled": true
   },
   "outputs": [],
   "source": [
    "def get_id_board_from_dump(board_name, current_timestamp):\n",
    "    board = get_board_by_name_from_dump(board_name, current_timestamp)\n",
    "    id_board = board['boards'][0]['id']\n",
    "\n",
    "    return id_board"
   ]
  },
  {
   "cell_type": "code",
   "execution_count": null,
   "metadata": {
    "scrolled": true
   },
   "outputs": [],
   "source": [
    "def create_lists_dump(board_name, board_id, current_timestamp):\n",
    "    lists = get_lists_by_board(board_name, board_id, current_timestamp)\n",
    "    \n",
    "    name_of_dump = f'dumps/{board_name}/{current_timestamp}/dump_lists.json'\n",
    "    write_json(name_of_dump, lists)\n",
    "        \n",
    "    return name_of_dump"
   ]
  },
  {
   "cell_type": "code",
   "execution_count": null,
   "metadata": {
    "scrolled": true
   },
   "outputs": [],
   "source": [
    "def create_custom_fields_dump(board_name, board_id, current_timestamp):\n",
    "    custom_fields = get_custom_fields_by_board(board_name, board_id, current_timestamp)\n",
    "        \n",
    "    name_of_dump = f'dumps/{board_name}/{current_timestamp}/dump_custom_field.json'\n",
    "    write_json(name_of_dump, custom_fields)\n",
    "        \n",
    "    return name_of_dump"
   ]
  },
  {
   "cell_type": "code",
   "execution_count": null,
   "metadata": {
    "scrolled": true
   },
   "outputs": [],
   "source": [
    "def create_cards_dump(board_name, board_id, current_timestamp):\n",
    "    board_cards = get_cards_by_board(board_name, board_id, current_timestamp)    \n",
    "       \n",
    "    name_of_dump = f'dumps/{board_name}/{current_timestamp}/dump_cards.json'\n",
    "    \n",
    "    write_json(name_of_dump, board_cards)\n",
    "            \n",
    "    return name_of_dump"
   ]
  },
  {
   "cell_type": "code",
   "execution_count": null,
   "metadata": {
    "scrolled": true
   },
   "outputs": [],
   "source": [
    "def create_members_dump(board_name, board_id, current_timestamp):\n",
    "    board_members = get_members_by_board(board_name, board_id, current_timestamp)    \n",
    "       \n",
    "    name_of_dump = f'dumps/{board_name}/{current_timestamp}/dump_members.json'\n",
    "    \n",
    "    write_json(name_of_dump, board_members)\n",
    "            \n",
    "    return name_of_dump"
   ]
  },
  {
   "cell_type": "code",
   "execution_count": null,
   "metadata": {
    "scrolled": true
   },
   "outputs": [],
   "source": [
    "def create_dumps_by_name(board_name, current_timestamp):\n",
    "    create_folder_for_dumping(board_name, current_timestamp)\n",
    "    \n",
    "    create_boards_dump(board_name, current_timestamp)\n",
    "    \n",
    "    board_id = get_id_board_from_dump(board_name, current_timestamp)\n",
    "    \n",
    "    create_lists_dump(board_name, board_id, current_timestamp)\n",
    "    create_custom_fields_dump(board_name, board_id, current_timestamp)\n",
    "    create_cards_dump(board_name, board_id, current_timestamp)\n",
    "    create_members_dump(board_name, board_id, current_timestamp)"
   ]
  },
  {
   "cell_type": "markdown",
   "metadata": {},
   "source": [
    "# Getting data from dumps"
   ]
  },
  {
   "cell_type": "code",
   "execution_count": null,
   "metadata": {
    "scrolled": true
   },
   "outputs": [],
   "source": [
    "def get_board_by_name_from_dump(board_name, timestamp):\n",
    "    board = get_data_from_dump(board_name, 'board', timestamp)\n",
    "    \n",
    "    return board"
   ]
  },
  {
   "cell_type": "code",
   "execution_count": null,
   "metadata": {
    "scrolled": true
   },
   "outputs": [],
   "source": [
    "def mapping_lists_by_board_from_dump(board_name, timestamp):\n",
    "    lists_json = get_data_from_dump(board_name, 'lists', timestamp)\n",
    "    \n",
    "    list_map = {}\n",
    "    for list in lists_json:\n",
    "        list_map[list['id']] = list['name']\n",
    "    \n",
    "    return list_map"
   ]
  },
  {
   "cell_type": "code",
   "execution_count": null,
   "metadata": {
    "scrolled": true
   },
   "outputs": [],
   "source": [
    "def mapping_custom_fields_by_board_from_dump(board_name, timestamp):\n",
    "    custom_fields_json = get_data_from_dump(board_name, 'custom_field', timestamp)\n",
    "    \n",
    "    custom_field_map = {}\n",
    "    for custom_field in custom_fields_json:\n",
    "        custom_field_map[custom_field['id']] = custom_field['name']\n",
    "        \n",
    "        if custom_field['type'] == 'list':\n",
    "            options = custom_field['options']\n",
    "            for option in options:\n",
    "                custom_field_map[option['id']] = option['value']['text']\n",
    "    \n",
    "    return custom_field_map"
   ]
  },
  {
   "cell_type": "code",
   "execution_count": null,
   "metadata": {
    "scrolled": true
   },
   "outputs": [],
   "source": [
    "def mapping_members_by_board_from_dump(board_name, timestamp):\n",
    "    members_json = get_data_from_dump(board_name, 'members', timestamp)\n",
    "    \n",
    "    members_map = {}\n",
    "    for member in members_json:\n",
    "        members_map[member['id']] = member['fullName']\n",
    "    \n",
    "    return members_map"
   ]
  },
  {
   "cell_type": "code",
   "execution_count": null,
   "metadata": {
    "scrolled": true
   },
   "outputs": [],
   "source": [
    "def create_normalized_card(card, lists_map, members_map, custom_fields_map, custom_field_required):\n",
    "    normalized_card = {}\n",
    "    normalized_card['name'] = card['name']\n",
    "    normalized_card['shortUrl'] = card['shortUrl']\n",
    "    normalized_card['idList'] = lists_map[card['idList']]\n",
    "\n",
    "    members_in_card = []\n",
    "    for member in card['idMembers']:\n",
    "        members_in_card.append(members_map[member])\n",
    "    normalized_card['idMember'] = members_in_card\n",
    "\n",
    "    for custom_field in card['customFieldItems']:\n",
    "        name = custom_fields_map[custom_field['idCustomField']]\n",
    "\n",
    "        if name in custom_field_required:\n",
    "\n",
    "            if 'idValue' in custom_field:\n",
    "                name_value = custom_fields_map[custom_field['idValue']]\n",
    "                normalized_card[name] = name_value\n",
    "\n",
    "            elif 'value' in custom_field:\n",
    "                for key, value in custom_field['value'].items():\n",
    "                    result = value \n",
    "                normalized_card[name] = result                           \n",
    "\n",
    "    if len(normalized_card) < 3:\n",
    "        raise Exception(\n",
    "            'Make sure all dates are filled in the card: Start, EndDev and End for {0}'.format(card['name']))\n",
    "    \n",
    "    return normalized_card"
   ]
  },
  {
   "cell_type": "code",
   "execution_count": null,
   "metadata": {
    "scrolled": true
   },
   "outputs": [],
   "source": [
    "def get_useful_cards_by_board(board_name, timestamp):\n",
    "    cards_raw = get_data_from_dump(board_name, 'cards' , timestamp)\n",
    "        \n",
    "    fields = ('id', 'name', 'idList', 'shortUrl', 'customFieldItems', 'idMembers')\n",
    "\n",
    "    cards = [{key : value for key, value in card.items() if key in fields} for card in cards_raw ]\n",
    "\n",
    "    custom_fields_map = mapping_custom_fields_by_board_from_dump(board_name, timestamp)\n",
    "\n",
    "    lists_map = mapping_lists_by_board_from_dump(board_name, timestamp)\n",
    "\n",
    "    members_map = mapping_members_by_board_from_dump(board_name, timestamp)\n",
    "    \n",
    "    custom_field_required = read_json('custom_fields_required.json')\n",
    "\n",
    "    useful_cards = []\n",
    "    for card in cards:\n",
    "        \n",
    "        idListName = lists_map[card['idList']]\n",
    "        \n",
    "        if idListName in ['Done']:\n",
    "            normalized_card = create_normalized_card(card, lists_map, members_map, custom_fields_map, custom_field_required)\n",
    "            useful_cards.append(normalized_card)\n",
    "            \n",
    "    return useful_cards"
   ]
  },
  {
   "cell_type": "code",
   "execution_count": null,
   "metadata": {},
   "outputs": [],
   "source": [
    "def get_useful_cards_in_dev_by_board(board_name, timestamp):\n",
    "    cards_raw = get_data_from_dump(board_name, 'cards' , timestamp)\n",
    "        \n",
    "    fields = ('id', 'name', 'idList', 'shortUrl', 'customFieldItems', 'idMembers')\n",
    "\n",
    "    cards = [{key : value for key, value in card.items() if key in fields} for card in cards_raw ]\n",
    "\n",
    "    custom_fields_map = mapping_custom_fields_by_board_from_dump(board_name, timestamp)\n",
    "\n",
    "    lists_map = mapping_lists_by_board_from_dump(board_name, timestamp)\n",
    "\n",
    "    members_map = mapping_members_by_board_from_dump(board_name, timestamp)\n",
    "    \n",
    "    custom_field_required = read_json('custom_fields_required.json')\n",
    "\n",
    "    useful_cards = []\n",
    "    for card in cards:\n",
    "        \n",
    "        idListName = lists_map[card['idList']]\n",
    "        \n",
    "        if idListName in ['Development', 'Review', 'Refinement', 'Assessment']:\n",
    "            normalized_card = create_normalized_card(card, lists_map, members_map, custom_fields_map, custom_field_required)\n",
    "            useful_cards.append(normalized_card)\n",
    "            \n",
    "    return useful_cards"
   ]
  },
  {
   "cell_type": "code",
   "execution_count": null,
   "metadata": {
    "scrolled": true
   },
   "outputs": [],
   "source": [
    "def create_dataframe_from_trello(board_name, timestamp):\n",
    "    cards = get_useful_cards_by_board(board_name, timestamp)\n",
    "    df = pd.DataFrame.from_dict(cards)\n",
    "\n",
    "    df['dev_duration'] = (pd.to_datetime(df['EndDev']).dt.date - pd.to_datetime(df['Start']).dt.date).dt.days\n",
    "    df['duration'] = (pd.to_datetime(df['End']).dt.date - pd.to_datetime(df['Start']).dt.date).dt.days\n",
    "    \n",
    "    df['busday_dev_duration'] = np.busday_count(\n",
    "        pd.to_datetime(df['Start']).dt.date,\n",
    "        pd.to_datetime(df['EndDev']).dt.date)\n",
    "    \n",
    "    df['busday_duration'] = np.busday_count(\n",
    "        pd.to_datetime(df['Start']).dt.date,\n",
    "        pd.to_datetime(df['End']).dt.date)\n",
    "    \n",
    "    df['quarter'] = pd.PeriodIndex(df['End'], freq='Q')\n",
    "    \n",
    "    df['month'] = pd.PeriodIndex(df['End'], freq='M')\n",
    "\n",
    "    df[\"count\"] = 1\n",
    "    \n",
    "    return df"
   ]
  },
  {
   "cell_type": "code",
   "execution_count": null,
   "metadata": {},
   "outputs": [],
   "source": [
    "def create_dataframe_in_dev_from_trello(board_name, timestamp):\n",
    "    cards = get_useful_cards_in_dev_by_board(board_name, timestamp)\n",
    "    df = pd.DataFrame.from_dict(cards)\n",
    "\n",
    "    df[\"count\"] = 1\n",
    "    \n",
    "    return df"
   ]
  },
  {
   "cell_type": "code",
   "execution_count": null,
   "metadata": {
    "scrolled": true
   },
   "outputs": [],
   "source": [
    "current_timestamp = generate_timestamp()\n",
    "create_dumps_by_name('CBN', current_timestamp)\n",
    "df = create_dataframe_from_trello('CBN', current_timestamp)\n",
    "\n",
    "# Filter only items from defined year - by End date.\n",
    "if YEAR_FILTER:\n",
    "    df = df[df['End'].str.contains(YEAR_FILTER)]"
   ]
  },
  {
   "cell_type": "code",
   "execution_count": null,
   "metadata": {
    "scrolled": true,
    "slideshow": {
     "slide_type": "-"
    },
    "tags": []
   },
   "outputs": [],
   "source": [
    "df"
   ]
  },
  {
   "cell_type": "code",
   "execution_count": null,
   "metadata": {
    "scrolled": true
   },
   "outputs": [],
   "source": [
    "cancelled = df[(df['idList'] == 'Cancelled')]\n",
    "done = df[(df['idList'] == 'Done')]"
   ]
  },
  {
   "cell_type": "code",
   "execution_count": null,
   "metadata": {},
   "outputs": [],
   "source": [
    "df.groupby('Size/Complexity').size()"
   ]
  },
  {
   "cell_type": "code",
   "execution_count": null,
   "metadata": {
    "scrolled": true
   },
   "outputs": [],
   "source": [
    "df_in_dev = create_dataframe_in_dev_from_trello('CBN', current_timestamp)\n",
    "\n",
    "df_in_dev['Size/Complexity'].fillna('S', inplace=True)\n",
    "df_in_dev"
   ]
  },
  {
   "cell_type": "code",
   "execution_count": null,
   "metadata": {
    "scrolled": true
   },
   "outputs": [],
   "source": [
    "q_low = df['duration'].quantile(0.01)\n",
    "q_hi  = df['duration'].quantile(0.89)\n",
    "\n",
    "df_estimative = df[(df['duration'] < q_hi) & (df['duration'] > q_low)]\n",
    "\n",
    "#display(df_estimative)\n",
    "df_estimative_group = df_estimative.groupby('Size/Complexity').mean()\n",
    "display(df_estimative_group)\n",
    "df_estimative_group.sort_values(by='duration', ascending=False, inplace=True)\n",
    "estimative_day_by_size = df_estimative_group.loc[:, 'busday_duration']\n",
    "#estimative_day_by_size *= 0.7\n",
    "estimative_day_by_size"
   ]
  },
  {
   "cell_type": "code",
   "execution_count": null,
   "metadata": {
    "scrolled": true
   },
   "outputs": [],
   "source": [
    "total_list_parsers = df_in_dev.groupby(['idList', 'Size/Complexity']).size()\n",
    "total_list_parsers = total_list_parsers.astype('float')\n",
    "total_list_parsers_normalized = total_list_parsers.copy()\n",
    "#30% Assesment e Refinement e 50% Develepment e 20% Review\n",
    "for i in total_list_parsers_normalized.index:\n",
    "    if i[0] == 'Refinement':\n",
    "        total_list_parsers_normalized[i] *= (1 - 0.2)\n",
    "    elif i[0] == 'Development':\n",
    "        total_list_parsers_normalized[i] *= (1 - 0.3)\n",
    "    elif i[0] == 'Review':\n",
    "        total_list_parsers_normalized[i] *= (1 - 0.8)\n",
    "        \n",
    "display(total_list_parsers_normalized)\n",
    "display(total_list_parsers)\n",
    "#total_list_parsers.groupby('Size/Complexity').size()"
   ]
  },
  {
   "cell_type": "code",
   "execution_count": null,
   "metadata": {},
   "outputs": [],
   "source": [
    "to_make_parsers_list = pd.Series({'XL':0, 'L':0, 'M':0, 'S':0, 'XS':0})\n",
    "\n",
    "#Current month fte and day of month\n",
    "current_day = int(dt.datetime.now().strftime('%d'))\n",
    "if dt.datetime.now().strftime('%m') == '02':\n",
    "    busdays_to_end_of_the_month = np.busday_count(dt.datetime.now().strftime('%Y-%m-%d'), str(dt.datetime.now().strftime('%Y-%m'))+'-28')\n",
    "else:\n",
    "    busdays_to_end_of_the_month = np.busday_count(dt.datetime.now().strftime('%Y-%m-%d'), str(dt.datetime.now().strftime('%Y-%m'))+'-30')\n",
    "\n",
    "current_month = dt.datetime.now().strftime('%Y-%m')\n",
    "\n",
    "#fte\n",
    "row_month = planned_ftes[planned_ftes['month'] == current_month]\n",
    "fte = row_month['planned_fte'].item()\n",
    "\n",
    "#Total fte days and Total expected parsers\n",
    "#total_busday = 20\n",
    "fte_days = fte * busdays_to_end_of_the_month#total_busday\n",
    "\n",
    "to_make_parsers = fte * EXPECTED_PARSERS_PER_FTE\n",
    "\n",
    "#Total parsers done this month\n",
    "total_parsers_done_current_month = sum(df[df['month'] == current_month]['count'])\n",
    "\n",
    "to_make_parsers -= total_parsers_done_current_month\n",
    "\n",
    "#Consedering parsers in development\n",
    "for i in total_list_parsers_normalized.index:\n",
    "    work_days_left_for_each_parser = (total_list_parsers_normalized[i]*estimative_day_by_size[i[1]] / total_list_parsers[i])\n",
    "    #print(f'{work_days_left_for_each_parser} dias pra fechar o parser de tamanho{i}')\n",
    "    if work_days_left_for_each_parser <= busdays_to_end_of_the_month:\n",
    "        fte_days -= total_list_parsers_normalized[i]*estimative_day_by_size[i[1]]\n",
    "        to_make_parsers -= total_list_parsers[i]\n",
    "    else:\n",
    "        fte_days -= total_list_parsers[i]*busdays_to_end_of_the_month\n",
    "\n",
    "#Sugestion to make parsers\n",
    "i = 0\n",
    "parser_day_value = estimative_day_by_size[i]\n",
    "parser_size = estimative_day_by_size.index[i]\n",
    "\n",
    "while True:\n",
    "    if parser_day_value <= 0.3*fte_days and parser_day_value <= busdays_to_end_of_the_month:\n",
    "        fte_days -= parser_day_value\n",
    "        to_make_parsers_list[i] += 1\n",
    "        to_make_parsers -= 1\n",
    "        \n",
    "    elif parser_size == 'XS' and to_make_parsers > 0:\n",
    "        fte_days = 0\n",
    "        to_make_parsers_list['XS'] += round(to_make_parsers)\n",
    "        to_make_parsers = 0\n",
    "        \n",
    "    else:\n",
    "        if i+1 < len(estimative_day_by_size):\n",
    "            i += 1\n",
    "        parser_day_value = estimative_day_by_size[i]\n",
    "        parser_size = estimative_day_by_size.index[i]\n",
    "        if to_make_parsers <= 0:\n",
    "            break\n",
    "print()\n",
    "if sum(to_make_parsers_list) == 0:\n",
    "    print(f'O número de parsers feitos nesse mês é de {total_parsers_done_current_month} e já atingiu a meta de {fte * EXPECTED_PARSERS_PER_FTE}.')\n",
    "else:\n",
    "    print('Os seguintes parsers já estão sendo feitos:')\n",
    "    print(total_list_parsers.groupby('Size/Complexity').size())\n",
    "    print()\n",
    "    print('É necessário então para completar a meta mensal:')\n",
    "    print()\n",
    "    for i in to_make_parsers_list.index:\n",
    "        print(f'{to_make_parsers_list[i]} parsers de tamanho {i}')\n",
    "        print('--*--'*5)"
   ]
  },
  {
   "cell_type": "markdown",
   "metadata": {},
   "source": [
    "# Calculating General Estimatives"
   ]
  },
  {
   "cell_type": "code",
   "execution_count": null,
   "metadata": {
    "scrolled": true
   },
   "outputs": [],
   "source": [
    "def get_extremes(data_frame, duration_column):\n",
    "    upper_q = partial(pd.Series.quantile, q=0.95)\n",
    "    lower_q = partial(pd.Series.quantile, q=0.05)\n",
    "\n",
    "    upper_extremes = data_frame[duration_column].agg([upper_q])[\"quantile\"]\n",
    "    lower_extremes = data_frame[duration_column].agg([lower_q])[\"quantile\"]\n",
    "    \n",
    "    return lower_extremes, upper_extremes"
   ]
  },
  {
   "cell_type": "code",
   "execution_count": null,
   "metadata": {
    "scrolled": true
   },
   "outputs": [],
   "source": [
    "def calculate_estimatives_by_duration_column(data_frame, duration_column, print_results=True):\n",
    "    lower_extremes, upper_extremes = get_extremes(data_frame, duration_column)\n",
    "    \n",
    "    done_extremes_removed = data_frame[(data_frame[duration_column] > lower_extremes) & (data_frame[duration_column] < upper_extremes)]\n",
    "    mean_removed_extremes = done_extremes_removed[duration_column].mean()\n",
    "    \n",
    "    small_q = partial(pd.Series.quantile, q=0.25)\n",
    "    small_limit = done_extremes_removed[duration_column].agg([small_q])[\"quantile\"]\n",
    "    \n",
    "    small_extremes_removed = done_extremes_removed[(done_extremes_removed[duration_column] <= small_limit)]\n",
    "    not_small_extremes_removed = done_extremes_removed[(done_extremes_removed[duration_column] > small_limit)]\n",
    "    \n",
    "    mean_small_extremes_removed = small_extremes_removed[duration_column].mean()\n",
    "    mean_not_small_extremes_removed = not_small_extremes_removed[duration_column].mean()\n",
    "    \n",
    "    total_developed = len(data_frame)\n",
    "    \n",
    "    if print_results:\n",
    "        features = ('lower_extremes', 'upper_extremes', 'small limit', 'Done estimate (with \"extremes\" removed)',\n",
    "                   'Done estimate for \"Small\" ones', 'Done estimate for \"Big\" ones', 'Total_developed')\n",
    "        values = (lower_extremes, upper_extremes, small_limit, mean_removed_extremes, mean_small_extremes_removed, \n",
    "                 mean_not_small_extremes_removed, total_developed)\n",
    "        general_estimatives = {'Feature':features, 'Value':values}\n",
    "        general_estimatives_df = pd.DataFrame(data=general_estimatives)\n",
    "        display(general_estimatives_df)\n",
    "    \n",
    "    return done_extremes_removed"
   ]
  },
  {
   "cell_type": "code",
   "execution_count": null,
   "metadata": {
    "scrolled": true
   },
   "outputs": [],
   "source": [
    "def calculate_estimatives(data_frame):\n",
    "    display(Markdown('### Total Duration:'))\n",
    "    calculate_estimatives_by_duration_column(data_frame, 'duration')\n",
    "    print('\\n')\n",
    "    display(Markdown('### Total Dev Duration:'))\n",
    "    calculate_estimatives_by_duration_column(data_frame, 'dev_duration')\n",
    "    print('\\n')\n",
    "    display(Markdown('## BUSINESS DAY'))\n",
    "    print('\\n')\n",
    "    display(Markdown('### Business Day Duration:'))\n",
    "    calculate_estimatives_by_duration_column(data_frame, 'busday_duration')\n",
    "    print('\\n')\n",
    "    display(Markdown('### Business Day Dev Duration:'))\n",
    "    calculate_estimatives_by_duration_column(data_frame, 'busday_dev_duration')"
   ]
  },
  {
   "cell_type": "code",
   "execution_count": null,
   "metadata": {
    "scrolled": true
   },
   "outputs": [],
   "source": [
    "def generate_table_amount_delivered_by_period(df, total_fte, period): # quarter or month\n",
    "    by_period = df[[period, 'count']].groupby(period).sum('count')\n",
    "\n",
    "    by_period_fte = pd.merge(by_period, total_fte, on=period, how='left')\n",
    "\n",
    "    period_result = by_period_fte[[period, 'count', 'fte']].groupby([period,'count']).sum('fte')\n",
    "    period_result.reset_index(drop=False, inplace=True)\n",
    "\n",
    "    period_result['parsers_per_fte'] = period_result['count'].div(period_result['fte'])\n",
    "    \n",
    "    period_result['target_count'] = period_result['fte'].multiply(EXPECTED_PARSERS_PER_FTE)\n",
    "    period_result['target_diff'] = period_result['count'].subtract(period_result['target_count'])\n",
    "\n",
    "    period_result[period] = period_result[period].astype(str)\n",
    "\n",
    "    return period_result"
   ]
  },
  {
   "cell_type": "code",
   "execution_count": null,
   "metadata": {
    "scrolled": true
   },
   "outputs": [],
   "source": [
    "def generate_chart_amount_delivered_by_period(df, period):\n",
    "    display(df)\n",
    "    ax = df[[period,'fte', 'parsers_per_fte', 'target_count']].plot(x=period, linestyle='-', marker='o', color=['orange', 'pink', 'cyan'])\n",
    "    df[[period,'count']].plot(x=period, kind='bar', ax=ax)\n",
    "    plt.legend(loc='upper right')\n",
    "    y = tuple(df.groupby(period).sum('count')['count'])\n",
    "    for i in range(len(y)):\n",
    "        plt.text(x=i, y=y[i], s=str(y[i]), ha='center', va='bottom')"
   ]
  },
  {
   "cell_type": "code",
   "execution_count": null,
   "metadata": {
    "scrolled": true
   },
   "outputs": [],
   "source": [
    "def generate_chart_and_table_amount_delivered_by_period(df, total_fte, period):\n",
    "    if period in ('month', 'quarter'):\n",
    "        period_result = generate_table_amount_delivered_by_period(df, total_fte, period)\n",
    "        generate_chart_amount_delivered_by_period(period_result, period)\n",
    "    else:\n",
    "        raise Exception(f'\"{period}\" is not defined. Must be \"month\" or \"quarter\".')"
   ]
  },
  {
   "cell_type": "code",
   "execution_count": null,
   "metadata": {},
   "outputs": [],
   "source": [
    "def generate_table_amount_delivered_by_period_and_size_complexity(df, period): # quarter or month\n",
    "    period_result = df.groupby([period, 'Size/Complexity']).size().unstack()\n",
    "    period_result.fillna(value=0, inplace=True)\n",
    "    return period_result"
   ]
  },
  {
   "cell_type": "code",
   "execution_count": null,
   "metadata": {},
   "outputs": [],
   "source": [
    "def generate_chart_amount_delivered_by_period_and_size_complexity(df, period):\n",
    "    display(df)\n",
    "    df.plot(kind='bar', stacked=True)\n",
    "    plt.title(f'Parsers delivered by {period} and Size/Complexity')\n",
    "    plt.legend(loc='upper right')\n",
    "    y = tuple(df.sum(axis=1))\n",
    "    for i in range(len(y)):\n",
    "        plt.text(x=i, y=y[i], s=str(y[i]), ha='center', va='bottom')"
   ]
  },
  {
   "cell_type": "code",
   "execution_count": null,
   "metadata": {},
   "outputs": [],
   "source": [
    "def generate_chart_and_table_amount_delivered_by_period_and_size_complexity(df, period):\n",
    "    if period in ('month', 'quarter'):\n",
    "        period_result = generate_table_amount_delivered_by_period_and_size_complexity(df, period)\n",
    "        generate_chart_amount_delivered_by_period_and_size_complexity(period_result, period)\n",
    "    else:\n",
    "        raise Exception(f'\"{period}\" is not defined. Must be \"month\" or \"quarter\".')"
   ]
  },
  {
   "cell_type": "markdown",
   "metadata": {},
   "source": [
    "# General Estimatives"
   ]
  },
  {
   "cell_type": "code",
   "execution_count": null,
   "metadata": {
    "scrolled": false
   },
   "outputs": [],
   "source": [
    "calculate_estimatives(done)"
   ]
  },
  {
   "cell_type": "markdown",
   "metadata": {},
   "source": [
    "# Amount delivered by month"
   ]
  },
  {
   "cell_type": "code",
   "execution_count": null,
   "metadata": {
    "scrolled": false
   },
   "outputs": [],
   "source": [
    "generate_chart_and_table_amount_delivered_by_period(df, total_fte, 'month')"
   ]
  },
  {
   "cell_type": "markdown",
   "metadata": {},
   "source": [
    "# Amount delivered by quarter"
   ]
  },
  {
   "cell_type": "code",
   "execution_count": null,
   "metadata": {
    "scrolled": false
   },
   "outputs": [],
   "source": [
    "generate_chart_and_table_amount_delivered_by_period(df, total_fte, 'quarter')"
   ]
  },
  {
   "cell_type": "markdown",
   "metadata": {},
   "source": [
    "# Amount delivered by month and Size/Complexity"
   ]
  },
  {
   "cell_type": "code",
   "execution_count": null,
   "metadata": {
    "scrolled": false
   },
   "outputs": [],
   "source": [
    "generate_chart_and_table_amount_delivered_by_period_and_size_complexity(df, 'month')"
   ]
  },
  {
   "cell_type": "markdown",
   "metadata": {},
   "source": [
    "# Amount delivered by quarter and Size/Complexity"
   ]
  },
  {
   "cell_type": "code",
   "execution_count": null,
   "metadata": {},
   "outputs": [],
   "source": [
    "generate_chart_and_table_amount_delivered_by_period_and_size_complexity(df, 'quarter')"
   ]
  }
 ],
 "metadata": {
  "kernelspec": {
   "display_name": "Python 3 (ipykernel)",
   "language": "python",
   "name": "python3"
  },
  "language_info": {
   "codemirror_mode": {
    "name": "ipython",
    "version": 3
   },
   "file_extension": ".py",
   "mimetype": "text/x-python",
   "name": "python",
   "nbconvert_exporter": "python",
   "pygments_lexer": "ipython3",
   "version": "3.8.10"
  }
 },
 "nbformat": 4,
 "nbformat_minor": 4
}
