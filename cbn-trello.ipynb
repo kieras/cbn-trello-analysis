{
 "cells": [
  {
   "cell_type": "code",
   "execution_count": null,
   "metadata": {
    "scrolled": true
   },
   "outputs": [],
   "source": [
    "import calendar\n",
    "import datetime as dt\n",
    "import dateutil.parser as dp\n",
    "import json\n",
    "import matplotlib.pyplot as plt\n",
    "import numpy as np\n",
    "import pandas as pd\n",
    "import requests\n",
    "import os\n",
    "import ipympl\n",
    "\n",
    "from IPython.display import display, Markdown\n",
    "from functools import partial\n",
    "from oauth2client.service_account import ServiceAccountCredentials\n",
    "from googleapiclient.discovery import build"
   ]
  },
  {
   "cell_type": "markdown",
   "metadata": {},
   "source": [
    "# Parameters"
   ]
  },
  {
   "cell_type": "code",
   "execution_count": null,
   "metadata": {
    "scrolled": true
   },
   "outputs": [],
   "source": [
    "EXPECTED_PARSERS_PER_FTE = 2.5\n",
    "INTERACTIVE_CHARTS = False\n",
    "PARSER_POINT  = {'XL' : 21, 'L' : 13, 'M' : 8, 'S': 5, 'XS' : 3}\n",
    "YEAR_FILTER = '2022' #empty string '' or 'YYYY'\n",
    "START_PERIOD_RANGE_BY_MEMBERS = '2021-08-16' #empty string '' or 'YYYY-MM-DD'\n",
    "FINAL_PERIOD_RANGE_BY_MEMBERS = '2021-08-16' #empty string '' or 'YYYY-MM-DD'"
   ]
  },
  {
   "cell_type": "markdown",
   "metadata": {},
   "source": [
    "# Notebook Options"
   ]
  },
  {
   "cell_type": "code",
   "execution_count": null,
   "metadata": {},
   "outputs": [],
   "source": [
    "if INTERACTIVE_CHARTS:\n",
    "    %matplotlib widget\n",
    "else:\n",
    "    %matplotlib inline\n",
    "\n",
    "pd.set_option('display.max_rows', None)"
   ]
  },
  {
   "cell_type": "markdown",
   "metadata": {},
   "source": [
    "# Setting up key, token and Service Account"
   ]
  },
  {
   "cell_type": "code",
   "execution_count": null,
   "metadata": {
    "scrolled": true
   },
   "outputs": [],
   "source": [
    "with open('keys.json') as file:\n",
    "    keys = json.load(file)\n",
    "    api_key = keys['trello']['api_key']\n",
    "    token = keys['trello']['token']\n",
    "    spreadsheet_key = keys['sheet']['spreadsheet_key']\n",
    "    sa_file = keys['sheet']['sa_file']"
   ]
  },
  {
   "cell_type": "markdown",
   "metadata": {},
   "source": [
    "# Extracting Sheet Data"
   ]
  },
  {
   "cell_type": "code",
   "execution_count": null,
   "metadata": {
    "scrolled": true
   },
   "outputs": [],
   "source": [
    "def convert_sheet_date(sheet_date):\n",
    "    conversion_table = {\n",
    "        'January': '01',\n",
    "        'February': '02',\n",
    "        'March': '03',\n",
    "        'April': '04',\n",
    "        'May': '05',\n",
    "        'June': '06',\n",
    "        'July': '07',\n",
    "        'August': '08',\n",
    "        'September': '09',\n",
    "        'October': '10',\n",
    "        'November': '11',\n",
    "        'December': '12'\n",
    "    }\n",
    "    \n",
    "    month = conversion_table[sheet_date.split('-')[0].strip()]\n",
    "    year = sheet_date.split('-')[1].strip()\n",
    "    \n",
    "    return year + '-' + month"
   ]
  },
  {
   "cell_type": "code",
   "execution_count": null,
   "metadata": {
    "scrolled": true
   },
   "outputs": [],
   "source": [
    "def get_consolidated_sheet():\n",
    "    scope = ['https://spreadsheets.google.com/feeds']\n",
    "    credentials = ServiceAccountCredentials.from_json_keyfile_name(sa_file, scope)\n",
    "    service = build('sheets', 'v4', credentials=credentials)\n",
    "\n",
    "    SAMPLE_RANGE_NAME = 'Consolidated'\n",
    "    sheet = service.spreadsheets()\n",
    "    result = sheet.values().get(spreadsheetId=spreadsheet_key,\n",
    "                                range=SAMPLE_RANGE_NAME).execute()\n",
    "    values = result.get('values', [])\n",
    "    \n",
    "    return values"
   ]
  },
  {
   "cell_type": "code",
   "execution_count": null,
   "metadata": {},
   "outputs": [],
   "source": [
    "def get_total_row_from_sheet():\n",
    "    table = get_consolidated_sheet()\n",
    "    \n",
    "    header_row = table[0]\n",
    "    columns = [value for index, value in enumerate(header_row) if value] \n",
    "    converted_columns = [ convert_sheet_date(x) for x in columns[1:]]\n",
    "    \n",
    "    # getting only the 'Total' row\n",
    "    total_row = [value for value in table if value and value[0] == 'Total'][0]\n",
    "    \n",
    "    return total_row, converted_columns"
   ]
  },
  {
   "cell_type": "code",
   "execution_count": null,
   "metadata": {},
   "outputs": [],
   "source": [
    "def get_ftes_by_date(column):\n",
    "    if column in ('executed', 'planned'):\n",
    "        total_row, converted_columns = get_total_row_from_sheet()\n",
    "        \n",
    "        if column == 'executed':\n",
    "            column_position = 3\n",
    "        elif column == 'planned':\n",
    "            column_position = 2\n",
    "\n",
    "        # getting only the selected column\n",
    "        selected_column = [total_row[i] for i in range(column_position, len(total_row), 3)]\n",
    "\n",
    "        selected_column_by_date = [ [converted_columns[index], value] for index, value in enumerate(selected_column)]\n",
    "\n",
    "        return selected_column_by_date\n",
    "    \n",
    "    else:\n",
    "        raise Exception(f'\"{column}\" is not defined. Must be \"executed\" or \"planned\".')"
   ]
  },
  {
   "cell_type": "code",
   "execution_count": null,
   "metadata": {
    "scrolled": true
   },
   "outputs": [],
   "source": [
    "def create_ftes_dataframe():\n",
    "    # from deprecated sheet, it will never be changed\n",
    "    old_data = [\n",
    "        ['2020-03', 4.0],\n",
    "        ['2020-04', 6.15],\n",
    "        ['2020-05', 6.25],\n",
    "        ['2020-06', 6.0],\n",
    "        ['2020-07', 3.65],\n",
    "        ['2020-08', 4.57],\n",
    "        ['2020-09', 4.52],\n",
    "        ['2020-10', 4.9],\n",
    "        ['2020-11', 4.7]\n",
    "    ]\n",
    "    \n",
    "    #Total fte\n",
    "    new_executed_data = get_ftes_by_date('executed')\n",
    "    \n",
    "    full_executed_data = old_data + new_executed_data\n",
    "    \n",
    "    executed_fte = pd.DataFrame(full_executed_data, columns=['month_base', 'executed_fte'])\n",
    "    \n",
    "    executed_fte['month_base'] = pd.to_datetime(executed_fte['month_base'])\n",
    "    executed_fte['month'] = pd.PeriodIndex(executed_fte['month_base'], freq='M')\n",
    "    executed_fte['quarter'] = pd.PeriodIndex(executed_fte['month_base'], freq='Q')\n",
    "    executed_fte['executed_fte'] = executed_fte['executed_fte'].astype(float)\n",
    "    \n",
    "    del executed_fte['month_base']\n",
    "    \n",
    "    #Planned fte  \n",
    "    new_planned_data = get_ftes_by_date('planned')\n",
    "    \n",
    "    full_planned_data = old_data + new_planned_data\n",
    "    \n",
    "    planned_fte = pd.DataFrame(full_planned_data, columns=['month_base', 'planned_fte'])\n",
    "    \n",
    "    planned_fte['month_base'] = pd.to_datetime(planned_fte['month_base'])\n",
    "    planned_fte['month'] = pd.PeriodIndex(planned_fte['month_base'], freq='M')\n",
    "    planned_fte['planned_fte'] = planned_fte['planned_fte'].astype(float)\n",
    "    \n",
    "    del planned_fte['month_base']\n",
    "    \n",
    "    #Merge\n",
    "    total_fte = executed_fte.merge(planned_fte, how='left')\n",
    "    total_fte = total_fte.reindex(['planned_fte', 'executed_fte', 'month', 'quarter'], axis='columns')\n",
    "    total_fte.fillna(value=0.00, inplace=True)\n",
    "    \n",
    "    return total_fte"
   ]
  },
  {
   "cell_type": "code",
   "execution_count": null,
   "metadata": {
    "scrolled": false
   },
   "outputs": [],
   "source": [
    "total_fte = create_ftes_dataframe()\n",
    "total_fte"
   ]
  },
  {
   "cell_type": "markdown",
   "metadata": {},
   "source": [
    "# Extracting Trello Data"
   ]
  },
  {
   "cell_type": "code",
   "execution_count": null,
   "metadata": {
    "scrolled": true
   },
   "outputs": [],
   "source": [
    "def get_data_from_trello_api(url):\n",
    "    headers = {\n",
    "       \"Accept\": \"application/json\"\n",
    "    }\n",
    "    \n",
    "    query = {\n",
    "       'key': api_key,\n",
    "       'token': token\n",
    "    }\n",
    "    \n",
    "    response = requests.request(\"GET\", url, headers=headers, params=query)\n",
    "    \n",
    "    if response.status_code > 299:\n",
    "        raise Exception('Something went wrong with the request {0} '\\\n",
    "                        'with status: {1}'.format(url, response.status_code))\n",
    "    \n",
    "    return json.loads(response.text)"
   ]
  },
  {
   "cell_type": "code",
   "execution_count": null,
   "metadata": {
    "scrolled": true
   },
   "outputs": [],
   "source": [
    "def read_json(json_name):\n",
    "    with open(json_name) as file:\n",
    "        json_opened = json.load(file)\n",
    "           \n",
    "    return json_opened "
   ]
  },
  {
   "cell_type": "code",
   "execution_count": null,
   "metadata": {
    "scrolled": true
   },
   "outputs": [],
   "source": [
    "def write_json(json_name, content_to_write):\n",
    "    with open(json_name, 'w') as json_file:\n",
    "        json.dump(content_to_write, json_file, indent=4, sort_keys=True)"
   ]
  },
  {
   "cell_type": "code",
   "execution_count": null,
   "metadata": {
    "scrolled": true
   },
   "outputs": [],
   "source": [
    "def generate_timestamp():\n",
    "    current_timestamp = dt.datetime.now().strftime('%d-%m-%Y')\n",
    "    \n",
    "    return current_timestamp"
   ]
  },
  {
   "cell_type": "code",
   "execution_count": null,
   "metadata": {
    "scrolled": true
   },
   "outputs": [],
   "source": [
    "def create_folder_for_dumping(name, current_timestamp):\n",
    "    if not os.path.exists('dumps'):\n",
    "        os.mkdir('dumps')\n",
    "    \n",
    "    if not os.path.exists('dumps/' + name):\n",
    "        os.mkdir('dumps/' + name)\n",
    "    \n",
    "    if not os.path.exists('dumps/' + name + '/' + current_timestamp):\n",
    "        os.mkdir('dumps/' + name + '/' + current_timestamp)"
   ]
  },
  {
   "cell_type": "code",
   "execution_count": null,
   "metadata": {
    "scrolled": true
   },
   "outputs": [],
   "source": [
    "def get_data_from_dump(board_name, dump_name, timestamp):\n",
    "    path = 'dumps/' + board_name + '/' + timestamp + '/dump_' + dump_name + '.json'\n",
    "    file_opened = read_json(path)\n",
    "    \n",
    "    return file_opened"
   ]
  },
  {
   "cell_type": "markdown",
   "metadata": {},
   "source": [
    "# Acessing API"
   ]
  },
  {
   "cell_type": "code",
   "execution_count": null,
   "metadata": {
    "scrolled": true
   },
   "outputs": [],
   "source": [
    "def get_board_by_name(board_name):\n",
    "    boards_url = f'https://api.trello.com/1/search?query={board_name}'\n",
    "    board = get_data_from_trello_api(boards_url)\n",
    "    \n",
    "    return board"
   ]
  },
  {
   "cell_type": "code",
   "execution_count": null,
   "metadata": {
    "scrolled": true
   },
   "outputs": [],
   "source": [
    "def get_lists_by_board(board_name, board_id, current_timestamp):\n",
    "    lists_url = 'https://api.trello.com/1/boards/{0}/lists'\n",
    "    lists = get_data_from_trello_api(lists_url.format(board_id))\n",
    "          \n",
    "    return lists"
   ]
  },
  {
   "cell_type": "code",
   "execution_count": null,
   "metadata": {
    "scrolled": true
   },
   "outputs": [],
   "source": [
    "def get_custom_fields_by_board(board_name, board_id, current_timestamp):\n",
    "    custom_fields_url = 'https://api.trello.com/1/boards/{0}/customFields'\n",
    "    custom_fields = get_data_from_trello_api(custom_fields_url.format(board_id))\n",
    "    \n",
    "    return custom_fields"
   ]
  },
  {
   "cell_type": "code",
   "execution_count": null,
   "metadata": {
    "scrolled": true
   },
   "outputs": [],
   "source": [
    "def get_cards_by_board(board_name, board_id, current_timestamp):\n",
    "    cards_on_board_url = 'https://api.trello.com/1/boards/{0}/cards/?customFieldItems=true'\n",
    "    board_cards = get_data_from_trello_api(cards_on_board_url.format(board_id))\n",
    "    \n",
    "    return board_cards"
   ]
  },
  {
   "cell_type": "code",
   "execution_count": null,
   "metadata": {
    "scrolled": true
   },
   "outputs": [],
   "source": [
    "def get_members_by_board(board_name, board_id, current_timestamp):\n",
    "    members_on_board_url = 'https://api.trello.com/1/boards/{0}/members'\n",
    "    board_members = get_data_from_trello_api(members_on_board_url.format(board_id))\n",
    "    \n",
    "    return board_members"
   ]
  },
  {
   "cell_type": "markdown",
   "metadata": {},
   "source": [
    "# Creating dumps"
   ]
  },
  {
   "cell_type": "code",
   "execution_count": null,
   "metadata": {
    "scrolled": true
   },
   "outputs": [],
   "source": [
    "def create_boards_dump(board_name, current_timestamp):\n",
    "    boards = get_board_by_name(board_name)\n",
    "\n",
    "    name_of_dump = f'dumps/{board_name}/{current_timestamp}/dump_board.json' \n",
    "    write_json(name_of_dump, boards)\n",
    "    \n",
    "    return name_of_dump"
   ]
  },
  {
   "cell_type": "code",
   "execution_count": null,
   "metadata": {
    "scrolled": true
   },
   "outputs": [],
   "source": [
    "def get_id_board_from_dump(board_name, current_timestamp):\n",
    "    board = get_board_by_name_from_dump(board_name, current_timestamp)\n",
    "    id_board = board['boards'][0]['id']\n",
    "\n",
    "    return id_board"
   ]
  },
  {
   "cell_type": "code",
   "execution_count": null,
   "metadata": {
    "scrolled": true
   },
   "outputs": [],
   "source": [
    "def create_lists_dump(board_name, board_id, current_timestamp):\n",
    "    lists = get_lists_by_board(board_name, board_id, current_timestamp)\n",
    "    \n",
    "    name_of_dump = f'dumps/{board_name}/{current_timestamp}/dump_lists.json'\n",
    "    write_json(name_of_dump, lists)\n",
    "        \n",
    "    return name_of_dump"
   ]
  },
  {
   "cell_type": "code",
   "execution_count": null,
   "metadata": {
    "scrolled": true
   },
   "outputs": [],
   "source": [
    "def create_custom_fields_dump(board_name, board_id, current_timestamp):\n",
    "    custom_fields = get_custom_fields_by_board(board_name, board_id, current_timestamp)\n",
    "        \n",
    "    name_of_dump = f'dumps/{board_name}/{current_timestamp}/dump_custom_field.json'\n",
    "    write_json(name_of_dump, custom_fields)\n",
    "        \n",
    "    return name_of_dump"
   ]
  },
  {
   "cell_type": "code",
   "execution_count": null,
   "metadata": {
    "scrolled": true
   },
   "outputs": [],
   "source": [
    "def create_cards_dump(board_name, board_id, current_timestamp):\n",
    "    board_cards = get_cards_by_board(board_name, board_id, current_timestamp)    \n",
    "       \n",
    "    name_of_dump = f'dumps/{board_name}/{current_timestamp}/dump_cards.json'\n",
    "    write_json(name_of_dump, board_cards)\n",
    "            \n",
    "    return name_of_dump"
   ]
  },
  {
   "cell_type": "code",
   "execution_count": null,
   "metadata": {
    "scrolled": true
   },
   "outputs": [],
   "source": [
    "def create_members_dump(board_name, board_id, current_timestamp):\n",
    "    board_members = get_members_by_board(board_name, board_id, current_timestamp)    \n",
    "       \n",
    "    name_of_dump = f'dumps/{board_name}/{current_timestamp}/dump_members.json'\n",
    "    write_json(name_of_dump, board_members)\n",
    "            \n",
    "    return name_of_dump"
   ]
  },
  {
   "cell_type": "code",
   "execution_count": null,
   "metadata": {
    "scrolled": true
   },
   "outputs": [],
   "source": [
    "def create_dumps_by_name(board_name, current_timestamp):\n",
    "    create_folder_for_dumping(board_name, current_timestamp)\n",
    "    \n",
    "    create_boards_dump(board_name, current_timestamp)\n",
    "    \n",
    "    board_id = get_id_board_from_dump(board_name, current_timestamp)\n",
    "    \n",
    "    create_lists_dump(board_name, board_id, current_timestamp)\n",
    "    create_custom_fields_dump(board_name, board_id, current_timestamp)\n",
    "    create_cards_dump(board_name, board_id, current_timestamp)\n",
    "    create_members_dump(board_name, board_id, current_timestamp)"
   ]
  },
  {
   "cell_type": "markdown",
   "metadata": {},
   "source": [
    "# Getting data from dumps"
   ]
  },
  {
   "cell_type": "code",
   "execution_count": null,
   "metadata": {
    "scrolled": true
   },
   "outputs": [],
   "source": [
    "def get_board_by_name_from_dump(board_name, timestamp):\n",
    "    board = get_data_from_dump(board_name, 'board', timestamp)\n",
    "    \n",
    "    return board"
   ]
  },
  {
   "cell_type": "code",
   "execution_count": null,
   "metadata": {
    "scrolled": true
   },
   "outputs": [],
   "source": [
    "def mapping_lists_by_board_from_dump(board_name, timestamp):\n",
    "    lists_json = get_data_from_dump(board_name, 'lists', timestamp)\n",
    "    \n",
    "    list_map = {}\n",
    "    for list in lists_json:\n",
    "        list_map[list['id']] = list['name']\n",
    "    \n",
    "    return list_map"
   ]
  },
  {
   "cell_type": "code",
   "execution_count": null,
   "metadata": {
    "scrolled": true
   },
   "outputs": [],
   "source": [
    "def mapping_custom_fields_by_board_from_dump(board_name, timestamp):\n",
    "    custom_fields_json = get_data_from_dump(board_name, 'custom_field', timestamp)\n",
    "    \n",
    "    custom_field_map = {}\n",
    "    for custom_field in custom_fields_json:\n",
    "        custom_field_map[custom_field['id']] = custom_field['name']\n",
    "        \n",
    "        if custom_field['type'] == 'list':\n",
    "            options = custom_field['options']\n",
    "            for option in options:\n",
    "                custom_field_map[option['id']] = option['value']['text']\n",
    "    \n",
    "    return custom_field_map"
   ]
  },
  {
   "cell_type": "code",
   "execution_count": null,
   "metadata": {
    "scrolled": true
   },
   "outputs": [],
   "source": [
    "def mapping_members_by_board_from_dump(board_name, timestamp):\n",
    "    members_json = get_data_from_dump(board_name, 'members', timestamp)\n",
    "    \n",
    "    members_map = {}\n",
    "    for member in members_json:\n",
    "        members_map[member['id']] = member['fullName']\n",
    "    \n",
    "    return members_map"
   ]
  },
  {
   "cell_type": "code",
   "execution_count": null,
   "metadata": {},
   "outputs": [],
   "source": [
    "def transforming_member_list_to_str(members_in_card_list):\n",
    "    members_list_sorted = sorted(members_in_card_list)\n",
    "    members_str = ' and '.join(members_list_sorted)\n",
    "    return members_str"
   ]
  },
  {
   "cell_type": "code",
   "execution_count": null,
   "metadata": {
    "scrolled": true
   },
   "outputs": [],
   "source": [
    "def create_normalized_card(card, lists_map, members_map, custom_fields_map, custom_field_required):\n",
    "    normalized_card = {}\n",
    "    normalized_card['name'] = card['name']\n",
    "    normalized_card['shortUrl'] = card['shortUrl']\n",
    "    normalized_card['idList'] = lists_map[card['idList']]\n",
    "\n",
    "    members_in_card_list = []\n",
    "    for member in card['idMembers']:\n",
    "        members_in_card_list.append(str.lower(members_map[member]))\n",
    "    members_in_card_str = transforming_member_list_to_str(members_in_card_list)\n",
    "    normalized_card['Members'] = members_in_card_str\n",
    "\n",
    "    for custom_field in card['customFieldItems']:\n",
    "        name = custom_fields_map[custom_field['idCustomField']]\n",
    "\n",
    "        if name in custom_field_required:\n",
    "\n",
    "            if 'idValue' in custom_field:\n",
    "                name_value = custom_fields_map[custom_field['idValue']]\n",
    "                normalized_card[name] = name_value\n",
    "                \n",
    "                if name_value in PARSER_POINT:\n",
    "                    normalized_card['parser_points'] = PARSER_POINT[name_value]\n",
    "\n",
    "            elif 'value' in custom_field:\n",
    "                for key, value in custom_field['value'].items():\n",
    "                    result = value \n",
    "                normalized_card[name] = result\n",
    "        \n",
    "    if len(normalized_card) < 3:\n",
    "        raise Exception(\n",
    "            'Make sure all dates are filled in the card: Start, EndDev and End for {0}'.format(card['name']))\n",
    "    \n",
    "    return normalized_card"
   ]
  },
  {
   "cell_type": "code",
   "execution_count": null,
   "metadata": {
    "scrolled": true
   },
   "outputs": [],
   "source": [
    "def get_useful_cards_by_board(board_name, timestamp):\n",
    "    cards_raw = get_data_from_dump(board_name, 'cards' , timestamp)\n",
    "        \n",
    "    fields = ('id', 'name', 'idList', 'shortUrl', 'customFieldItems', 'idMembers')\n",
    "\n",
    "    cards = [{key : value for key, value in card.items() if key in fields} for card in cards_raw ]\n",
    "\n",
    "    custom_fields_map = mapping_custom_fields_by_board_from_dump(board_name, timestamp)\n",
    "\n",
    "    lists_map = mapping_lists_by_board_from_dump(board_name, timestamp)\n",
    "\n",
    "    members_map = mapping_members_by_board_from_dump(board_name, timestamp)\n",
    "    \n",
    "    custom_field_required = read_json('custom_fields_required.json')\n",
    "\n",
    "    useful_cards = []\n",
    "    for card in cards:\n",
    "        \n",
    "        idListName = lists_map[card['idList']]\n",
    "        \n",
    "        if idListName in ['Done']:\n",
    "            normalized_card = create_normalized_card(card, lists_map, \n",
    "                                                     members_map, custom_fields_map, custom_field_required)\n",
    "            useful_cards.append(normalized_card)\n",
    "            \n",
    "    return useful_cards"
   ]
  },
  {
   "cell_type": "code",
   "execution_count": null,
   "metadata": {
    "scrolled": true
   },
   "outputs": [],
   "source": [
    "def create_dataframe_from_trello(board_name, timestamp):\n",
    "    cards = get_useful_cards_by_board(board_name, timestamp)\n",
    "    df = pd.DataFrame.from_dict(cards)\n",
    "\n",
    "    df['dev_duration'] = (pd.to_datetime(df['EndDev']).dt.date - pd.to_datetime(df['Start']).dt.date).dt.days\n",
    "    df['duration'] = (pd.to_datetime(df['End']).dt.date - pd.to_datetime(df['Start']).dt.date).dt.days\n",
    "    \n",
    "    df['busday_dev_duration'] = np.busday_count(\n",
    "        pd.to_datetime(df['Start']).dt.date,\n",
    "        pd.to_datetime(df['EndDev']).dt.date)\n",
    "    \n",
    "    df['busday_duration'] = np.busday_count(\n",
    "        pd.to_datetime(df['Start']).dt.date,\n",
    "        pd.to_datetime(df['End']).dt.date)\n",
    "    \n",
    "    df['quarter'] = pd.PeriodIndex(df['End'], freq='Q')\n",
    "    \n",
    "    df['month'] = pd.PeriodIndex(df['End'], freq='M')\n",
    "\n",
    "    df['count'] = 1\n",
    "    \n",
    "    return df"
   ]
  },
  {
   "cell_type": "code",
   "execution_count": null,
   "metadata": {
    "scrolled": true
   },
   "outputs": [],
   "source": [
    "current_timestamp = generate_timestamp()\n",
    "create_dumps_by_name('CBN', current_timestamp)\n",
    "df = create_dataframe_from_trello('CBN', current_timestamp)\n",
    "\n",
    "# Filter only items from defined year - by End date.\n",
    "if YEAR_FILTER:\n",
    "    df = df[df['End'].str.contains(YEAR_FILTER)]"
   ]
  },
  {
   "cell_type": "code",
   "execution_count": null,
   "metadata": {
    "scrolled": true,
    "slideshow": {
     "slide_type": "-"
    },
    "tags": []
   },
   "outputs": [],
   "source": [
    "df"
   ]
  },
  {
   "cell_type": "code",
   "execution_count": null,
   "metadata": {
    "scrolled": true
   },
   "outputs": [],
   "source": [
    "cancelled = df[(df['idList'] == 'Cancelled')]\n",
    "done = df[(df['idList'] == 'Done')]"
   ]
  },
  {
   "cell_type": "markdown",
   "metadata": {},
   "source": [
    "# Validate parameters of date"
   ]
  },
  {
   "cell_type": "code",
   "execution_count": null,
   "metadata": {},
   "outputs": [],
   "source": [
    "def validate_if_year_filter_is_equal_of_less_than_current_year():\n",
    "     if YEAR_FILTER > str(dt.datetime.now().year):\n",
    "         raise IndexError(f'{YEAR_FILTER} is greater than current year and because of this it\\'s not possible to calculate the CBN-Metrics.')"
   ]
  },
  {
   "cell_type": "code",
   "execution_count": null,
   "metadata": {},
   "outputs": [],
   "source": [
    "def validate_period_range_by_members_by_type_and_validity():\n",
    "    pass\n",
    "#     #checking if START_PERIOD_RANGE_BY_MEMBERS and FINAL_PERIOD_RANGE_BY_MEMBERS are of different types than str even if it is an empty str \n",
    "#     for date_to_validate in [START_PERIOD_RANGE_BY_MEMBERS, FINAL_PERIOD_RANGE_BY_MEMBERS]:\n",
    "#         if type(date_to_validate) == str:\n",
    "#             #validate if the date is valid\n",
    "#             if date_to_validate.strip():\n",
    "#                 try:\n",
    "#                     date_to_validate = dt.datetime.strptime(date_to_validate, '%Y-%m-%d')\n",
    "#                 except ValueError as err:\n",
    "#                     raise Exception(f'Date {date_to_validate} is not valid because {err}.')\n",
    "#         else:\n",
    "#             raise Exception(f'Date {date_to_validate} is not valid because it\\'s not a string.')"
   ]
  },
  {
   "cell_type": "code",
   "execution_count": null,
   "metadata": {},
   "outputs": [],
   "source": [
    "def validate_if_the_year_of_start_period_range_by_member_is_the_same_of_year_filter():\n",
    "    pass\n",
    "#     if START_PERIOD_RANGE_BY_MEMBERS == '':\n",
    "#         pass\n",
    "#     else:\n",
    "#         if str(dt.datetime.strptime(START_PERIOD_RANGE_BY_MEMBERS, '%Y-%m-%d').year) != YEAR_FILTER:\n",
    "#             raise Exception(f'START_PERIOD_RANGE_BY_NAMES\\'s year is different than YEAR_FILTER')        "
   ]
  },
  {
   "cell_type": "code",
   "execution_count": null,
   "metadata": {},
   "outputs": [],
   "source": [
    "def validate_if_start_period_range_by_member_is_less_than_final_period_range_by_members():\n",
    "    pass\n",
    "#     if START_PERIOD_RANGE_BY_MEMBERS == '':\n",
    "#         pass\n",
    "#     else:\n",
    "#         if START_PERIOD_RANGE_BY_MEMBERS.strip() and FINAL_PERIOD_RANGE_BY_MEMBERS.strip():\n",
    "#             if START_PERIOD_RANGE_BY_MEMBERS > FINAL_PERIOD_RANGE_BY_MEMBERS:\n",
    "#                 raise Exception(f'Initial date of range ({START_PERIOD_RANGE_BY_MEMBERS}) must be less than the final date of range ({FINAL_PERIOD_RANGE_BY_MEMBERS}).')    "
   ]
  },
  {
   "cell_type": "code",
   "execution_count": null,
   "metadata": {},
   "outputs": [],
   "source": [
    "def validate_range_dates():\n",
    "    try:\n",
    "        validate_if_year_filter_is_equal_of_less_than_current_year()\n",
    "        validate_period_range_by_members_by_type_and_validity()\n",
    "        validate_if_the_year_of_start_period_range_by_member_is_the_same_of_year_filter()\n",
    "        validate_if_start_period_range_by_member_is_less_than_final_period_range_by_members()\n",
    "    except:\n",
    "        raise ('Exception : '+ repr(in_err))\n",
    "    "
   ]
  },
  {
   "cell_type": "markdown",
   "metadata": {},
   "source": [
    "# Calculating General Estimatives"
   ]
  },
  {
   "cell_type": "code",
   "execution_count": null,
   "metadata": {},
   "outputs": [],
   "source": [
    "def it_isnt_possible_to_plot():\n",
    "        display(Markdown(f'#### Size / complexity did not exist in {YEAR_FILTER}. So it is not possible to plot the graph of total delivered by members and Size / complexity'))"
   ]
  },
  {
   "cell_type": "code",
   "execution_count": null,
   "metadata": {
    "scrolled": true
   },
   "outputs": [],
   "source": [
    "def get_extremes(data_frame, duration_column):\n",
    "    upper_q = partial(pd.Series.quantile, q=0.95)\n",
    "    lower_q = partial(pd.Series.quantile, q=0.05)\n",
    "\n",
    "    upper_extremes = data_frame[duration_column].agg([upper_q])[\"quantile\"]\n",
    "    lower_extremes = data_frame[duration_column].agg([lower_q])[\"quantile\"]\n",
    "    \n",
    "    return lower_extremes, upper_extremes"
   ]
  },
  {
   "cell_type": "code",
   "execution_count": null,
   "metadata": {
    "scrolled": true
   },
   "outputs": [],
   "source": [
    "def calculate_estimatives_by_duration_column(data_frame, duration_column, print_results=True):\n",
    "    lower_extremes, upper_extremes = get_extremes(data_frame, duration_column)\n",
    "    \n",
    "    done_extremes_removed = data_frame[(data_frame[duration_column] > lower_extremes) & \n",
    "                                       (data_frame[duration_column] < upper_extremes)]\n",
    "    mean_removed_extremes = done_extremes_removed[duration_column].mean()\n",
    "    \n",
    "    small_q = partial(pd.Series.quantile, q=0.25)\n",
    "    small_limit = done_extremes_removed[duration_column].agg([small_q])[\"quantile\"]\n",
    "    \n",
    "    small_extremes_removed = done_extremes_removed[(done_extremes_removed[duration_column] <= small_limit)]\n",
    "    not_small_extremes_removed = done_extremes_removed[(done_extremes_removed[duration_column] > small_limit)]\n",
    "    \n",
    "    mean_small_extremes_removed = small_extremes_removed[duration_column].mean()\n",
    "    mean_not_small_extremes_removed = not_small_extremes_removed[duration_column].mean()\n",
    "    \n",
    "    total_developed = len(data_frame)\n",
    "    \n",
    "    if print_results:\n",
    "        features = ('lower_extremes', 'upper_extremes', 'small limit', 'Done estimate (with \"extremes\" removed)',\n",
    "                   'Done estimate for \"Small\" ones', 'Done estimate for \"Big\" ones', 'Total_developed')\n",
    "        values = (lower_extremes, upper_extremes, small_limit, mean_removed_extremes, mean_small_extremes_removed, \n",
    "                 mean_not_small_extremes_removed, total_developed)\n",
    "        general_estimatives = {'Feature':features, 'Value':values}\n",
    "        general_estimatives_df = pd.DataFrame(data=general_estimatives)\n",
    "        display(general_estimatives_df)\n",
    "    \n",
    "    return done_extremes_removed"
   ]
  },
  {
   "cell_type": "code",
   "execution_count": null,
   "metadata": {
    "scrolled": true
   },
   "outputs": [],
   "source": [
    "def calculate_estimatives(data_frame):\n",
    "    display(Markdown('### Total Duration:'))\n",
    "    calculate_estimatives_by_duration_column(data_frame, 'duration')\n",
    "    print('\\n')\n",
    "    display(Markdown('### Total Dev Duration:'))\n",
    "    calculate_estimatives_by_duration_column(data_frame, 'dev_duration')\n",
    "    print('\\n')\n",
    "    display(Markdown('## BUSINESS DAY'))\n",
    "    print('\\n')\n",
    "    display(Markdown('### Business Day Duration:'))\n",
    "    calculate_estimatives_by_duration_column(data_frame, 'busday_duration')\n",
    "    print('\\n')\n",
    "    display(Markdown('### Business Day Dev Duration:'))\n",
    "    calculate_estimatives_by_duration_column(data_frame, 'busday_dev_duration')"
   ]
  },
  {
   "cell_type": "code",
   "execution_count": null,
   "metadata": {
    "scrolled": true
   },
   "outputs": [],
   "source": [
    "def generate_table_amount_delivered_by_period(df, total_fte, period): # quarter or month\n",
    "    by_period = df[[period, 'count']].groupby(period).sum('count')\n",
    "    by_period_fte = pd.merge(by_period, total_fte, on=period, how='left')\n",
    "    \n",
    "    period_result = by_period_fte[[period, 'count', 'planned_fte','executed_fte']].groupby(\n",
    "        [period,'count']).sum('executed_fte')\n",
    "    period_result.reset_index(drop=False, inplace=True)\n",
    "    \n",
    "    period_result['parsers_per_fte'] = period_result['count'].div(period_result['executed_fte'])\n",
    "    \n",
    "    period_result['planned_count'] = period_result['planned_fte'].multiply(EXPECTED_PARSERS_PER_FTE)\n",
    "    period_result['executed_count'] = period_result['executed_fte'].multiply(EXPECTED_PARSERS_PER_FTE)\n",
    "    period_result['target_diff'] = period_result['count'].subtract(period_result['planned_count'])\n",
    "\n",
    "    period_result[period] = period_result[period].astype(str)\n",
    "\n",
    "    return period_result"
   ]
  },
  {
   "cell_type": "code",
   "execution_count": null,
   "metadata": {},
   "outputs": [],
   "source": [
    "def generate_chart_delivered_by_period(df, period, bar_values_to_plot, line_values_to_plot):\n",
    "    display(df)\n",
    "    \n",
    "    ax = df[line_values_to_plot].plot(x = period, linestyle = '-', marker = 'o',\n",
    "                                      color = ['orange', 'pink', 'cyan', 'red'])\n",
    "    df[bar_values_to_plot].plot(x=period, kind='bar', ax=ax, figsize = (10,6))\n",
    "    plt.legend(bbox_to_anchor=(1.3, 1.0))\n",
    "    text_position_count = 0\n",
    "    \n",
    "    y = tuple(df.groupby(period).sum(bar_values_to_plot[1])[bar_values_to_plot[1]])\n",
    "    for i in range(len(y)):\n",
    "        plt.text(x=i, y=y[i], s=str(y[i]), ha='center', va='bottom')\n"
   ]
  },
  {
   "cell_type": "code",
   "execution_count": null,
   "metadata": {
    "scrolled": true
   },
   "outputs": [],
   "source": [
    "def generate_chart_and_table_amount_delivered_by_period(df, total_fte, period):\n",
    "    try:\n",
    "        validate_range_dates()\n",
    "        if period in ('month', 'quarter'):\n",
    "            period_result = generate_table_amount_delivered_by_period(df, total_fte, period)\n",
    "            bar_values_to_plot = [period,'count']\n",
    "            line_values_to_plot = [period, 'executed_fte', 'parsers_per_fte', 'executed_count', 'planned_count']\n",
    "            generate_chart_delivered_by_period(period_result, period, bar_values_to_plot, line_values_to_plot)\n",
    "\n",
    "        else:\n",
    "            raise Exception(f'\"{period}\" is not defined. Must be \"month\" or \"quarter\".')\n",
    "    except Exception as err:\n",
    "        print(err)        "
   ]
  },
  {
   "cell_type": "code",
   "execution_count": null,
   "metadata": {},
   "outputs": [],
   "source": [
    "def generate_table_parser_points_delivered_by_period(df, total_fte, period):\n",
    "    by_period = df[[period, 'parser_points']].groupby(period).sum('parser_points')\n",
    "    by_period_fte = pd.merge(by_period, total_fte, on=period, how='left')\n",
    "    \n",
    "    period_result = by_period_fte[[period, 'parser_points', 'planned_fte', 'executed_fte']].groupby(\n",
    "        [period,'parser_points']).sum('executed_fte')\n",
    "    period_result.reset_index(drop=False, inplace=True)\n",
    "    \n",
    "    period_result['points_per_fte'] = period_result['parser_points'].div(period_result['executed_fte'])\n",
    "    \n",
    "    period_result[period] = period_result[period].astype(str)\n",
    "\n",
    "    return period_result"
   ]
  },
  {
   "cell_type": "code",
   "execution_count": null,
   "metadata": {},
   "outputs": [],
   "source": [
    "def generate_chart_and_table_parser_points_delivered_by_period(df, total_fte, period):\n",
    "    if YEAR_FILTER == '2020':\n",
    "        it_isnt_possible_to_plot()\n",
    "    else:\n",
    "        if period in ('month', 'quarter'):\n",
    "            period_result = generate_table_parser_points_delivered_by_period(df, total_fte, period)\n",
    "            bar_values_to_plot = [period,'parser_points']\n",
    "            line_values_to_plot = [period, 'executed_fte', 'points_per_fte']\n",
    "            generate_chart_delivered_by_period(period_result, period, bar_values_to_plot, line_values_to_plot)\n",
    "\n",
    "        else:\n",
    "            raise Exception(f'\"{period}\" is not defined. Must be \"month\" or \"quarter\".')"
   ]
  },
  {
   "cell_type": "code",
   "execution_count": null,
   "metadata": {},
   "outputs": [],
   "source": [
    "def generate_table_amount_delivered_by_period_and_size_complexity(df, period): # quarter or month\n",
    "    period_result = df.groupby([period, 'Size/Complexity']).size().unstack()\n",
    "    period_result.fillna(value=0, inplace=True)\n",
    "    return period_result"
   ]
  },
  {
   "cell_type": "code",
   "execution_count": null,
   "metadata": {},
   "outputs": [],
   "source": [
    "def generate_chart_amount_delivered_by_period_and_size_complexity(df, period):\n",
    "    display(df)\n",
    "    df.plot(kind='bar', stacked=True, figsize = (10,6))\n",
    "    plt.title(f'Parsers delivered by {period} and Size/Complexity')\n",
    "    plt.legend(bbox_to_anchor=(1.15, 1.0))\n",
    "    y = tuple(df.sum(axis=1))\n",
    "    for i in range(len(y)):\n",
    "        plt.text(x=i, y=y[i], s=str(y[i]), ha='center', va='bottom')"
   ]
  },
  {
   "cell_type": "code",
   "execution_count": null,
   "metadata": {},
   "outputs": [],
   "source": [
    "def generate_chart_and_table_amount_delivered_by_period_and_size_complexity(df, period):\n",
    "    if YEAR_FILTER == '2020':\n",
    "        it_isnt_possible_to_plot()\n",
    "    else:\n",
    "        if period in ('month', 'quarter'):\n",
    "            period_result = generate_table_amount_delivered_by_period_and_size_complexity(df, period)\n",
    "            generate_chart_amount_delivered_by_period_and_size_complexity(period_result, period)\n",
    "        else:\n",
    "            raise Exception(f'\"{period}\" is not defined. Must be \"month\" or \"quarter\".')"
   ]
  },
  {
   "cell_type": "code",
   "execution_count": null,
   "metadata": {},
   "outputs": [],
   "source": [
    "def delimit_dataframe_by_range(df, is_by_size_complexity):\n",
    "    if is_by_size_complexity:\n",
    "        phrase = '### Graph and Table of parsers delivered by members and Size/Complexity'\n",
    "    else:\n",
    "        phrase = '### Graph and Table of parsers delivered by members'\n",
    "    \n",
    "    first_day_of_parsers = min(df['End'])\n",
    "    day_of_last_parser_delivered = max(df['End'])\n",
    "    datetime_start_period_range = START_PERIOD_RANGE_BY_MEMBERS + 'T00:00:00.001Z'\n",
    "    datetime_final_period_range= FINAL_PERIOD_RANGE_BY_MEMBERS + 'T23:59:59.999Z'\n",
    "    \n",
    "    if datetime_start_period_range and datetime_final_period_range:\n",
    "        display(Markdown(f'{phrase} between {datetime_start_period_range} and {datetime_final_period_range}'))\n",
    "        delimited = (df['End'] >= datetime_start_period_range) & (df['End'] <= datetime_final_period_range)\n",
    "    elif datetime_start_period_range:\n",
    "        display(Markdown(f'{phrase} since {datetime_start_period_range}'))\n",
    "        delimited = (df['End'] >= datetime_start_period_range) & (df['End'] <= day_of_last_parser_delivered)\n",
    "    elif final_period_range_by_members_with_time:\n",
    "        display(Markdown(f'{phrase} up to {datetime_final_period_range}'))\n",
    "        delimited = (df['End'] >= first_day_of_parsers) & (df['End'] <= datetime_final_period_range)\n",
    "    else:\n",
    "        display(Markdown(f'{phrase} since {first_day_of_parsers}'))\n",
    "        delimited = (df['End'] >= first_day_of_parsers) & (df['End'] <= day_of_last_parser_delivered)\n",
    "\n",
    "    df_delimited = df[delimited]\n",
    "\n",
    "    return df_delimited"
   ]
  },
  {
   "cell_type": "code",
   "execution_count": null,
   "metadata": {},
   "outputs": [],
   "source": [
    "def generate_table_total_delivered_by_members_and_size(df, is_by_size_complexity):\n",
    "\n",
    "    df_delimited = delimit_dataframe_by_range(df, is_by_size_complexity)\n",
    "\n",
    "    total_by_members = df_delimited[['Members', 'count', 'Size/Complexity','End']].groupby(\n",
    "        ['Members', 'Size/Complexity']).size().unstack()\n",
    "    total_by_members.fillna(value=0, inplace=True)\n",
    "    \n",
    "    return total_by_members"
   ]
  },
  {
   "cell_type": "code",
   "execution_count": null,
   "metadata": {},
   "outputs": [],
   "source": [
    "def generate_table_total_delivered_by_members(df, is_by_size_complexity):\n",
    "    df_delimited = delimit_dataframe_by_range(df, is_by_size_complexity)\n",
    "        \n",
    "    total_by_members = df_delimited[['Members', 'count']].groupby(['Members']).sum('count')        \n",
    "    \n",
    "    return total_by_members"
   ]
  },
  {
   "cell_type": "code",
   "execution_count": null,
   "metadata": {},
   "outputs": [],
   "source": [
    "def generate_chart_total_delivered_by_members_and_size(df, is_by_size_complexity):\n",
    "    display(df)\n",
    "    df.plot(kind = 'bar', stacked = is_by_size_complexity, figsize = (10,6))\n",
    "    \n",
    "    plt.xticks(size=10)\n",
    "    plt.legend(bbox_to_anchor=(1.15, 1.0))\n",
    "    y = tuple(df.sum(axis=1))\n",
    "    for i in range(len(y)):\n",
    "        plt.text(x=i, y=y[i], s=str(y[i]), ha='center', va='bottom')"
   ]
  },
  {
   "cell_type": "code",
   "execution_count": null,
   "metadata": {},
   "outputs": [],
   "source": [
    "def generate_chart_and_table_total_delivered_by_members_and_size(df):\n",
    "    is_by_size_complexity = True\n",
    "    if YEAR_FILTER == '2020' and is_by_size_complexity:\n",
    "        it_isnt_possible_to_plot()\n",
    "    else:\n",
    "        total_by_members_and_size = generate_table_total_delivered_by_members_and_size(df, is_by_size_complexity)\n",
    "        generate_chart_total_delivered_by_members_and_size(total_by_members_and_size, is_by_size_complexity)\n",
    "    print('\\n')"
   ]
  },
  {
   "cell_type": "code",
   "execution_count": null,
   "metadata": {},
   "outputs": [],
   "source": [
    "def generate_chart_and_table_total_delivered_by_members(df):\n",
    "    is_by_size_complexity = False\n",
    "    total_by_members = generate_table_total_delivered_by_members(df, is_by_size_complexity)\n",
    "    generate_chart_total_delivered_by_members_and_size(total_by_members, is_by_size_complexity)\n",
    "    print('\\n')"
   ]
  },
  {
   "cell_type": "markdown",
   "metadata": {},
   "source": [
    "# General Estimatives"
   ]
  },
  {
   "cell_type": "code",
   "execution_count": null,
   "metadata": {
    "scrolled": false
   },
   "outputs": [],
   "source": [
    "calculate_estimatives(done)"
   ]
  },
  {
   "cell_type": "markdown",
   "metadata": {},
   "source": [
    "# Amount delivered by month"
   ]
  },
  {
   "cell_type": "code",
   "execution_count": null,
   "metadata": {
    "scrolled": false
   },
   "outputs": [],
   "source": [
    "generate_chart_and_table_amount_delivered_by_period(df, total_fte, 'month')"
   ]
  },
  {
   "cell_type": "markdown",
   "metadata": {},
   "source": [
    "# Amount delivered by quarter"
   ]
  },
  {
   "cell_type": "code",
   "execution_count": null,
   "metadata": {
    "scrolled": false
   },
   "outputs": [],
   "source": [
    "generate_chart_and_table_amount_delivered_by_period(df, total_fte, 'quarter')"
   ]
  },
  {
   "cell_type": "markdown",
   "metadata": {},
   "source": [
    "# Parser points delivered by month"
   ]
  },
  {
   "cell_type": "code",
   "execution_count": null,
   "metadata": {},
   "outputs": [],
   "source": [
    "generate_chart_and_table_parser_points_delivered_by_period(df, total_fte, 'month')"
   ]
  },
  {
   "cell_type": "markdown",
   "metadata": {},
   "source": [
    "# Parser points delivered by quarter"
   ]
  },
  {
   "cell_type": "code",
   "execution_count": null,
   "metadata": {},
   "outputs": [],
   "source": [
    "generate_chart_and_table_parser_points_delivered_by_period(df, total_fte, 'quarter')"
   ]
  },
  {
   "cell_type": "markdown",
   "metadata": {},
   "source": [
    "# Amount delivered by month and Size/Complexity"
   ]
  },
  {
   "cell_type": "code",
   "execution_count": null,
   "metadata": {
    "scrolled": false
   },
   "outputs": [],
   "source": [
    "generate_chart_and_table_amount_delivered_by_period_and_size_complexity(df, 'month')"
   ]
  },
  {
   "cell_type": "markdown",
   "metadata": {},
   "source": [
    "# Amount delivered by quarter and Size/Complexity"
   ]
  },
  {
   "cell_type": "code",
   "execution_count": null,
   "metadata": {},
   "outputs": [],
   "source": [
    "generate_chart_and_table_amount_delivered_by_period_and_size_complexity(df, 'quarter')"
   ]
  },
  {
   "cell_type": "markdown",
   "metadata": {},
   "source": [
    "# Total delivered by Members"
   ]
  },
  {
   "cell_type": "code",
   "execution_count": null,
   "metadata": {},
   "outputs": [],
   "source": [
    "generate_chart_and_table_total_delivered_by_members_and_size(df)"
   ]
  },
  {
   "cell_type": "code",
   "execution_count": null,
   "metadata": {},
   "outputs": [],
   "source": [
    "generate_chart_and_table_total_delivered_by_members(df)"
   ]
  }
 ],
 "metadata": {
  "kernelspec": {
   "display_name": "Python 3",
   "language": "python",
   "name": "python3"
  },
  "language_info": {
   "codemirror_mode": {
    "name": "ipython",
    "version": 3
   },
   "file_extension": ".py",
   "mimetype": "text/x-python",
   "name": "python",
   "nbconvert_exporter": "python",
   "pygments_lexer": "ipython3",
   "version": "3.8.10"
  }
 },
 "nbformat": 4,
 "nbformat_minor": 4
}
